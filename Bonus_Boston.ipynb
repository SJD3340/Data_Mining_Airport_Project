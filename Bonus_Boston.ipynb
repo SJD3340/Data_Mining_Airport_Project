{
 "cells": [
  {
   "cell_type": "code",
   "execution_count": null,
   "id": "b39b9fd0-8144-4cb6-9cea-65bf2e1594cf",
   "metadata": {},
   "outputs": [],
   "source": [
    "import requests\n",
    "import pandas as pd\n",
    "import json\n",
    "import numpy as np\n",
    "from datetime import datetime\n",
    "import os\n",
    "import csv\n",
    "import matplotlib.pyplot as plt"
   ]
  },
  {
   "cell_type": "code",
   "execution_count": 107,
   "id": "d822fd43-4cf6-496b-81dc-faff7198cbd0",
   "metadata": {},
   "outputs": [],
   "source": [
    "headers = {'accept': 'application/json'}\n",
    "url1 = \"https://api.openaq.org/v2/measurements?date_from=2023-05-01T00%3A00%3A00&date_to=2023-05-10T23%3A59%3A59&limit=10000&&sort=desc&parameter_id=2&coordinates=42.3643%2C-71.005203&radius=7500&order_by=datetime\""
   ]
  },
  {
   "cell_type": "code",
   "execution_count": 108,
   "id": "847c482a-139b-4f02-8048-2957bd1b3355",
   "metadata": {},
   "outputs": [],
   "source": [
    "headers = {'accept': 'application/json'}\n",
    "url2 = \"https://api.openaq.org/v2/measurements?date_from=2023-05-11T00%3A00%3A00&date_to=2023-05-20T23%3A59%3A59&limit=10000&&sort=desc&parameter_id=2&coordinates=42.3643%2C-71.005203&radius=7500&order_by=datetime\""
   ]
  },
  {
   "cell_type": "code",
   "execution_count": 109,
   "id": "9b5c8a2c-7b84-4d77-9424-be0cf10a830f",
   "metadata": {},
   "outputs": [],
   "source": [
    "headers = {'accept': 'application/json'}\n",
    "url3 = \"https://api.openaq.org/v2/measurements?date_from=2023-05-21T00%3A00%3A00&date_to=2023-05-31T23%3A59%3A59&limit=10000&&sort=desc&parameter_id=2&coordinates=42.3643%2C-71.005203&radius=7500&order_by=datetime\""
   ]
  },
  {
   "cell_type": "code",
   "execution_count": 110,
   "id": "312676e0-cb9c-4d37-974d-b951d9f5d807",
   "metadata": {},
   "outputs": [],
   "source": [
    "headers = {'accept': 'application/json'}\n",
    "url4 = \"https://api.openaq.org/v2/measurements?date_from=2023-06-01T00%3A00%3A00&date_to=2023-06-10T23%3A59%3A59&limit=10000&&sort=desc&parameter_id=2&coordinates=42.3643%2C-71.005203&radius=7500&order_by=datetime\""
   ]
  },
  {
   "cell_type": "code",
   "execution_count": 111,
   "id": "a9dfed6e-f1dc-4bc4-929a-a39b06cc0c12",
   "metadata": {},
   "outputs": [],
   "source": [
    "headers = {'accept': 'application/json'}\n",
    "url5 = \"https://api.openaq.org/v2/measurements?date_from=2023-06-11T00%3A00%3A00&date_to=2023-06-20T23%3A59%3A59&limit=10000&&sort=desc&parameter_id=2&coordinates=42.3643%2C-71.005203&radius=7500&order_by=datetime\""
   ]
  },
  {
   "cell_type": "code",
   "execution_count": 112,
   "id": "55771f4a-5939-4fec-a689-f444b14da332",
   "metadata": {},
   "outputs": [],
   "source": [
    "headers = {'accept': 'application/json'}\n",
    "url6 = \"https://api.openaq.org/v2/measurements?date_from=2023-06-21T00%3A00%3A00&date_to=2023-06-30T23%3A59%3A59&limit=10000&&sort=desc&parameter_id=2&coordinates=42.3643%2C-71.005203&radius=7500&order_by=datetime\""
   ]
  },
  {
   "cell_type": "code",
   "execution_count": 113,
   "id": "0b9987d6-e4b1-46d9-9b4a-eb76d9fe86be",
   "metadata": {},
   "outputs": [],
   "source": [
    "headers = {'accept': 'application/json'}\n",
    "url7 = \"https://api.openaq.org/v2/measurements?date_from=2023-07-01T00%3A00%3A00&date_to=2023-07-10T23%3A59%3A59&limit=10000&&sort=desc&parameter_id=2&coordinates=42.3643%2C-71.005203&radius=7500&order_by=datetime\""
   ]
  },
  {
   "cell_type": "code",
   "execution_count": 114,
   "id": "07040605-2692-4c65-b919-9363de6dd37a",
   "metadata": {},
   "outputs": [],
   "source": [
    "headers = {'accept': 'application/json'}\n",
    "url8 = \"https://api.openaq.org/v2/measurements?date_from=2023-07-11T00%3A00%3A00&date_to=2023-07-20T23%3A59%3A59&limit=10000&&sort=desc&parameter_id=2&coordinates=42.3643%2C-71.005203&radius=7500&order_by=datetime\""
   ]
  },
  {
   "cell_type": "code",
   "execution_count": 115,
   "id": "ff094693-84f2-4147-b718-ed586ce5d19c",
   "metadata": {},
   "outputs": [],
   "source": [
    "headers = {'accept': 'application/json'}\n",
    "url9 = \"https://api.openaq.org/v2/measurements?date_from=2023-07-21T00%3A00%3A00&date_to=2023-07-31T23%3A59%3A59&limit=10000&&sort=desc&parameter_id=2&coordinates=42.3643%2C-71.005203&radius=7500&order_by=datetime\""
   ]
  },
  {
   "cell_type": "code",
   "execution_count": 116,
   "id": "36880035-674a-493c-b951-7d23ecf25970",
   "metadata": {},
   "outputs": [],
   "source": [
    "headers = {'accept': 'application/json'}\n",
    "url10 = \"https://api.openaq.org/v2/measurements?date_from=2023-08-01T00%3A00%3A00&date_to=2023-08-10T23%3A59%3A59&limit=10000&&sort=desc&parameter_id=2&coordinates=42.3643%2C-71.005203&radius=7500&order_by=datetime\""
   ]
  },
  {
   "cell_type": "code",
   "execution_count": 117,
   "id": "85372ee3-7c05-4a7e-88e3-080cf6534f42",
   "metadata": {},
   "outputs": [],
   "source": [
    "headers = {'accept': 'application/json'}\n",
    "url11 = \"https://api.openaq.org/v2/measurements?date_from=2023-08-11T00%3A00%3A00&date_to=2023-08-20T23%3A59%3A59&limit=10000&&sort=desc&parameter_id=2&coordinates=42.3643%2C-71.005203&radius=7500&order_by=datetime\""
   ]
  },
  {
   "cell_type": "code",
   "execution_count": 118,
   "id": "9f5a50b7-44a7-45f0-a15c-ff21d57ad8ad",
   "metadata": {},
   "outputs": [],
   "source": [
    "headers = {'accept': 'application/json'}\n",
    "url12 = \"https://api.openaq.org/v2/measurements?date_from=2023-08-21T00%3A00%3A00&date_to=2023-08-31T23%3A59%3A59&limit=10000&&sort=desc&parameter_id=2&coordinates=42.3643%2C-71.005203&radius=7500&order_by=datetime\""
   ]
  },
  {
   "cell_type": "code",
   "execution_count": 119,
   "id": "1898dc23-348f-4550-9b2f-0bd7f004d338",
   "metadata": {},
   "outputs": [],
   "source": [
    "r1 = requests.get(url1, headers=headers)"
   ]
  },
  {
   "cell_type": "code",
   "execution_count": 155,
   "id": "2d34685a-2ffa-4619-84b6-4c57f9ea1203",
   "metadata": {},
   "outputs": [],
   "source": [
    "r2 = requests.get(url2, headers=headers)"
   ]
  },
  {
   "cell_type": "code",
   "execution_count": 173,
   "id": "8b4cc136-28e1-4ee6-8ed9-c3fe14961202",
   "metadata": {},
   "outputs": [],
   "source": [
    "r3 = requests.get(url3, headers=headers)"
   ]
  },
  {
   "cell_type": "code",
   "execution_count": 122,
   "id": "d7b8d465-d8b3-4d6e-b133-32858f11502c",
   "metadata": {},
   "outputs": [],
   "source": [
    "r4 = requests.get(url4, headers=headers)"
   ]
  },
  {
   "cell_type": "code",
   "execution_count": 123,
   "id": "be97aee4-bb51-4193-82e5-6fc60b829684",
   "metadata": {},
   "outputs": [],
   "source": [
    "r5 = requests.get(url5, headers=headers)"
   ]
  },
  {
   "cell_type": "code",
   "execution_count": 192,
   "id": "30637a05-66e4-4505-8f76-52221afa72cf",
   "metadata": {},
   "outputs": [],
   "source": [
    "r6 = requests.get(url6, headers=headers)"
   ]
  },
  {
   "cell_type": "code",
   "execution_count": 198,
   "id": "4c5e62c0-9d55-4cb5-bed2-94dca125ad2d",
   "metadata": {},
   "outputs": [],
   "source": [
    "r7 = requests.get(url7, headers=headers)"
   ]
  },
  {
   "cell_type": "code",
   "execution_count": 204,
   "id": "15b133d2-c9dc-496c-90ba-a5aa5df40379",
   "metadata": {},
   "outputs": [],
   "source": [
    "r8 = requests.get(url8, headers=headers)"
   ]
  },
  {
   "cell_type": "code",
   "execution_count": 211,
   "id": "7f14ef8f-7fde-423a-b933-7fc18642043a",
   "metadata": {},
   "outputs": [],
   "source": [
    "r9 = requests.get(url9, headers=headers)"
   ]
  },
  {
   "cell_type": "code",
   "execution_count": 128,
   "id": "6a505b0e-1a31-48f6-a4b4-83cbabf66fa2",
   "metadata": {},
   "outputs": [],
   "source": [
    "r10 = requests.get(url10, headers=headers)"
   ]
  },
  {
   "cell_type": "code",
   "execution_count": 132,
   "id": "b5638db1-33bd-47b1-af41-b554aaed958a",
   "metadata": {},
   "outputs": [],
   "source": [
    "r11 = requests.get(url1, headers=headers)"
   ]
  },
  {
   "cell_type": "code",
   "execution_count": 223,
   "id": "69c093b0-2ebc-4b6d-83e4-cf3895f47bb8",
   "metadata": {},
   "outputs": [],
   "source": [
    "r12 = requests.get(url2, headers=headers)"
   ]
  },
  {
   "cell_type": "code",
   "execution_count": 133,
   "id": "6fedb5f6-9186-4a8f-bb65-dab9f62ce182",
   "metadata": {},
   "outputs": [],
   "source": [
    "d1 = json.loads(r1.text)"
   ]
  },
  {
   "cell_type": "code",
   "execution_count": 156,
   "id": "30381545-db9b-43cd-92eb-43c22fff7fb2",
   "metadata": {},
   "outputs": [],
   "source": [
    "d2 = json.loads(r2.text)"
   ]
  },
  {
   "cell_type": "code",
   "execution_count": 174,
   "id": "55f9a401-3582-4095-b9f1-f587bf519ea8",
   "metadata": {},
   "outputs": [],
   "source": [
    "d3 = json.loads(r3.text)"
   ]
  },
  {
   "cell_type": "code",
   "execution_count": 136,
   "id": "b0514d30-4aeb-428f-9d7a-d801bd0df4db",
   "metadata": {},
   "outputs": [],
   "source": [
    "d4 = json.loads(r4.text)"
   ]
  },
  {
   "cell_type": "code",
   "execution_count": 137,
   "id": "ae442670-8683-4939-99d3-cbe12549e8fb",
   "metadata": {},
   "outputs": [],
   "source": [
    "d5 = json.loads(r5.text)"
   ]
  },
  {
   "cell_type": "code",
   "execution_count": 193,
   "id": "9936d686-64b3-466b-8ef1-1b3271334e1a",
   "metadata": {},
   "outputs": [],
   "source": [
    "d6 = json.loads(r6.text)"
   ]
  },
  {
   "cell_type": "code",
   "execution_count": 199,
   "id": "94d0edf9-8813-4ff9-b419-1f6ea8e26804",
   "metadata": {},
   "outputs": [],
   "source": [
    "d7 = json.loads(r7.text)"
   ]
  },
  {
   "cell_type": "code",
   "execution_count": 205,
   "id": "42551f3d-2a3a-4241-bdc0-413df5c82d85",
   "metadata": {},
   "outputs": [],
   "source": [
    "d8 = json.loads(r8.text)"
   ]
  },
  {
   "cell_type": "code",
   "execution_count": 212,
   "id": "30a1c24e-acbc-4a97-891b-9e7137a0d2be",
   "metadata": {},
   "outputs": [],
   "source": [
    "d9 = json.loads(r9.text)"
   ]
  },
  {
   "cell_type": "code",
   "execution_count": 142,
   "id": "5175a27a-d8e8-4d33-a241-9c4a83c87e79",
   "metadata": {},
   "outputs": [],
   "source": [
    "d10 = json.loads(r10.text)"
   ]
  },
  {
   "cell_type": "code",
   "execution_count": 143,
   "id": "f4746ecd-02c9-4c1a-b89d-05639b818b7e",
   "metadata": {},
   "outputs": [],
   "source": [
    "d11 = json.loads(r11.text)"
   ]
  },
  {
   "cell_type": "code",
   "execution_count": 224,
   "id": "1eb03155-6c41-4274-9990-c0d0e1f50d17",
   "metadata": {},
   "outputs": [],
   "source": [
    "d12 = json.loads(r12.text)"
   ]
  },
  {
   "cell_type": "code",
   "execution_count": 147,
   "id": "7a953c6c-b79b-415f-822b-8c8c018d30ac",
   "metadata": {},
   "outputs": [],
   "source": [
    "json_df = d1[\"results\"]"
   ]
  },
  {
   "cell_type": "code",
   "execution_count": 148,
   "id": "4c637c49-2339-4d98-9887-416f0a33a921",
   "metadata": {},
   "outputs": [],
   "source": [
    "json_df = pd.DataFrame(json_df)"
   ]
  },
  {
   "cell_type": "code",
   "execution_count": 157,
   "id": "7d53fb1d-afa5-4ca8-b8b4-fdab3337939c",
   "metadata": {},
   "outputs": [],
   "source": [
    "json_df2 = d2[\"results\"]"
   ]
  },
  {
   "cell_type": "code",
   "execution_count": 158,
   "id": "1638f9ef-8237-4755-9b95-b70500259b12",
   "metadata": {},
   "outputs": [],
   "source": [
    "json_df2 = pd.DataFrame(json_df2)"
   ]
  },
  {
   "cell_type": "code",
   "execution_count": 175,
   "id": "84e8bb08-fb00-46a4-a1c5-7c7f88f70258",
   "metadata": {},
   "outputs": [],
   "source": [
    "json_df3 = d3[\"results\"]"
   ]
  },
  {
   "cell_type": "code",
   "execution_count": 176,
   "id": "a100350e-a13c-4833-8a2c-0ed86efd129d",
   "metadata": {},
   "outputs": [],
   "source": [
    "json_df3 = pd.DataFrame(json_df3)"
   ]
  },
  {
   "cell_type": "code",
   "execution_count": 178,
   "id": "e2dc95ef-66ce-48f5-9cab-ff9969fae3e5",
   "metadata": {},
   "outputs": [],
   "source": [
    "json_df4 = d4[\"results\"]"
   ]
  },
  {
   "cell_type": "code",
   "execution_count": 179,
   "id": "96c5229e-2e90-4d6c-966f-7a8f1eae673b",
   "metadata": {},
   "outputs": [],
   "source": [
    "json_df4 = pd.DataFrame(json_df4)"
   ]
  },
  {
   "cell_type": "code",
   "execution_count": 182,
   "id": "ce9157e8-1006-4b73-9b22-ee5fa3cc9cc5",
   "metadata": {},
   "outputs": [],
   "source": [
    "json_df5 = d5[\"results\"]"
   ]
  },
  {
   "cell_type": "code",
   "execution_count": 183,
   "id": "b7da839d-d59f-4ca1-ace4-f925fab34d13",
   "metadata": {},
   "outputs": [],
   "source": [
    "json_df5 = pd.DataFrame(json_df5)"
   ]
  },
  {
   "cell_type": "code",
   "execution_count": 194,
   "id": "2424e5c2-9738-4743-bfae-07a38758136e",
   "metadata": {},
   "outputs": [],
   "source": [
    "json_df6 = d6[\"results\"]"
   ]
  },
  {
   "cell_type": "code",
   "execution_count": 195,
   "id": "2f6bedf8-a326-42da-8e30-ad4bb966fb34",
   "metadata": {},
   "outputs": [],
   "source": [
    "json_df6 = pd.DataFrame(json_df6)"
   ]
  },
  {
   "cell_type": "code",
   "execution_count": 200,
   "id": "88006ffa-dc22-48f8-8908-4758fd6c4088",
   "metadata": {},
   "outputs": [],
   "source": [
    "json_df7 = d7[\"results\"]"
   ]
  },
  {
   "cell_type": "code",
   "execution_count": 201,
   "id": "aa93f165-4c39-4051-83f4-a157202b0876",
   "metadata": {},
   "outputs": [],
   "source": [
    "json_df7 = pd.DataFrame(json_df7)"
   ]
  },
  {
   "cell_type": "code",
   "execution_count": 206,
   "id": "ff9c39de-ce5c-4028-b1f3-6d6f86d6fb80",
   "metadata": {},
   "outputs": [],
   "source": [
    "json_df8 = d8[\"results\"]"
   ]
  },
  {
   "cell_type": "code",
   "execution_count": 207,
   "id": "b56b29c8-2454-4d34-ab43-cdb331c3811f",
   "metadata": {},
   "outputs": [],
   "source": [
    "json_df8 = pd.DataFrame(json_df8)"
   ]
  },
  {
   "cell_type": "code",
   "execution_count": 213,
   "id": "fede8644-7821-4673-92d5-1f930b3b170d",
   "metadata": {},
   "outputs": [],
   "source": [
    "json_df9 = d9[\"results\"]"
   ]
  },
  {
   "cell_type": "code",
   "execution_count": 214,
   "id": "14744d7c-48a8-4e09-adf9-c4aa6608af4a",
   "metadata": {},
   "outputs": [],
   "source": [
    "json_df9 = pd.DataFrame(json_df9)"
   ]
  },
  {
   "cell_type": "code",
   "execution_count": 216,
   "id": "a1d56f97-2d6e-444e-bd12-f320f461dd12",
   "metadata": {},
   "outputs": [],
   "source": [
    "json_df10 = d10[\"results\"]"
   ]
  },
  {
   "cell_type": "code",
   "execution_count": 217,
   "id": "02323827-14cb-4150-a0f6-96b95a0ac5c4",
   "metadata": {},
   "outputs": [],
   "source": [
    "json_df10 = pd.DataFrame(json_df10)"
   ]
  },
  {
   "cell_type": "code",
   "execution_count": 219,
   "id": "58b994a7-4858-448c-836b-c3acfd7591ad",
   "metadata": {},
   "outputs": [],
   "source": [
    "json_df11 = d11[\"results\"]"
   ]
  },
  {
   "cell_type": "code",
   "execution_count": 220,
   "id": "4db98309-93a0-4027-9508-8c8cb74a0f6f",
   "metadata": {},
   "outputs": [],
   "source": [
    "json_df11 = pd.DataFrame(json_df11)"
   ]
  },
  {
   "cell_type": "code",
   "execution_count": 225,
   "id": "f416682a-11b8-4ad5-b513-038cf7412280",
   "metadata": {},
   "outputs": [],
   "source": [
    "json_df12 = d12[\"results\"]"
   ]
  },
  {
   "cell_type": "code",
   "execution_count": 226,
   "id": "f2e7b050-905b-4732-93d7-f18c96c5fadc",
   "metadata": {},
   "outputs": [],
   "source": [
    "json_df12 = pd.DataFrame(json_df12)"
   ]
  },
  {
   "cell_type": "code",
   "execution_count": 227,
   "id": "b1723bb3-7ca4-4ae1-8bbb-fb357628f2e1",
   "metadata": {},
   "outputs": [
    {
     "data": {
      "text/html": [
       "<div>\n",
       "<style scoped>\n",
       "    .dataframe tbody tr th:only-of-type {\n",
       "        vertical-align: middle;\n",
       "    }\n",
       "\n",
       "    .dataframe tbody tr th {\n",
       "        vertical-align: top;\n",
       "    }\n",
       "\n",
       "    .dataframe thead th {\n",
       "        text-align: right;\n",
       "    }\n",
       "</style>\n",
       "<table border=\"1\" class=\"dataframe\">\n",
       "  <thead>\n",
       "    <tr style=\"text-align: right;\">\n",
       "      <th></th>\n",
       "      <th>locationId</th>\n",
       "      <th>location</th>\n",
       "      <th>parameter</th>\n",
       "      <th>value</th>\n",
       "      <th>date</th>\n",
       "      <th>unit</th>\n",
       "      <th>coordinates</th>\n",
       "      <th>country</th>\n",
       "      <th>city</th>\n",
       "      <th>isMobile</th>\n",
       "      <th>isAnalysis</th>\n",
       "      <th>entity</th>\n",
       "      <th>sensorType</th>\n",
       "    </tr>\n",
       "  </thead>\n",
       "  <tbody>\n",
       "    <tr>\n",
       "      <th>0</th>\n",
       "      <td>448</td>\n",
       "      <td>Boston - Roxbury</td>\n",
       "      <td>pm25</td>\n",
       "      <td>8.0</td>\n",
       "      <td>{'utc': '2023-05-10T23:00:00+00:00', 'local': ...</td>\n",
       "      <td>µg/m³</td>\n",
       "      <td>{'latitude': 42.329399, 'longitude': -71.082497}</td>\n",
       "      <td>US</td>\n",
       "      <td>None</td>\n",
       "      <td>False</td>\n",
       "      <td>None</td>\n",
       "      <td>Governmental Organization</td>\n",
       "      <td>reference grade</td>\n",
       "    </tr>\n",
       "    <tr>\n",
       "      <th>1</th>\n",
       "      <td>448</td>\n",
       "      <td>Boston - Roxbury</td>\n",
       "      <td>pm25</td>\n",
       "      <td>8.0</td>\n",
       "      <td>{'utc': '2023-05-10T22:00:00+00:00', 'local': ...</td>\n",
       "      <td>µg/m³</td>\n",
       "      <td>{'latitude': 42.329399, 'longitude': -71.082497}</td>\n",
       "      <td>US</td>\n",
       "      <td>None</td>\n",
       "      <td>False</td>\n",
       "      <td>None</td>\n",
       "      <td>Governmental Organization</td>\n",
       "      <td>reference grade</td>\n",
       "    </tr>\n",
       "    <tr>\n",
       "      <th>2</th>\n",
       "      <td>448</td>\n",
       "      <td>Boston - Roxbury</td>\n",
       "      <td>pm25</td>\n",
       "      <td>7.0</td>\n",
       "      <td>{'utc': '2023-05-10T21:00:00+00:00', 'local': ...</td>\n",
       "      <td>µg/m³</td>\n",
       "      <td>{'latitude': 42.329399, 'longitude': -71.082497}</td>\n",
       "      <td>US</td>\n",
       "      <td>None</td>\n",
       "      <td>False</td>\n",
       "      <td>None</td>\n",
       "      <td>Governmental Organization</td>\n",
       "      <td>reference grade</td>\n",
       "    </tr>\n",
       "    <tr>\n",
       "      <th>3</th>\n",
       "      <td>448</td>\n",
       "      <td>Boston - Roxbury</td>\n",
       "      <td>pm25</td>\n",
       "      <td>6.0</td>\n",
       "      <td>{'utc': '2023-05-10T20:00:00+00:00', 'local': ...</td>\n",
       "      <td>µg/m³</td>\n",
       "      <td>{'latitude': 42.329399, 'longitude': -71.082497}</td>\n",
       "      <td>US</td>\n",
       "      <td>None</td>\n",
       "      <td>False</td>\n",
       "      <td>None</td>\n",
       "      <td>Governmental Organization</td>\n",
       "      <td>reference grade</td>\n",
       "    </tr>\n",
       "    <tr>\n",
       "      <th>4</th>\n",
       "      <td>448</td>\n",
       "      <td>Boston - Roxbury</td>\n",
       "      <td>pm25</td>\n",
       "      <td>6.0</td>\n",
       "      <td>{'utc': '2023-05-10T19:00:00+00:00', 'local': ...</td>\n",
       "      <td>µg/m³</td>\n",
       "      <td>{'latitude': 42.329399, 'longitude': -71.082497}</td>\n",
       "      <td>US</td>\n",
       "      <td>None</td>\n",
       "      <td>False</td>\n",
       "      <td>None</td>\n",
       "      <td>Governmental Organization</td>\n",
       "      <td>reference grade</td>\n",
       "    </tr>\n",
       "    <tr>\n",
       "      <th>...</th>\n",
       "      <td>...</td>\n",
       "      <td>...</td>\n",
       "      <td>...</td>\n",
       "      <td>...</td>\n",
       "      <td>...</td>\n",
       "      <td>...</td>\n",
       "      <td>...</td>\n",
       "      <td>...</td>\n",
       "      <td>...</td>\n",
       "      <td>...</td>\n",
       "      <td>...</td>\n",
       "      <td>...</td>\n",
       "      <td>...</td>\n",
       "    </tr>\n",
       "    <tr>\n",
       "      <th>9995</th>\n",
       "      <td>224400</td>\n",
       "      <td>DEP 2B43</td>\n",
       "      <td>pm25</td>\n",
       "      <td>11.6</td>\n",
       "      <td>{'utc': '2023-05-13T06:30:43+00:00', 'local': ...</td>\n",
       "      <td>µg/m³</td>\n",
       "      <td>{'latitude': 42.3973, 'longitude': -71.03321}</td>\n",
       "      <td>US</td>\n",
       "      <td>None</td>\n",
       "      <td>False</td>\n",
       "      <td>None</td>\n",
       "      <td>Community Organization</td>\n",
       "      <td>low-cost sensor</td>\n",
       "    </tr>\n",
       "    <tr>\n",
       "      <th>9996</th>\n",
       "      <td>224400</td>\n",
       "      <td>DEP 2B43</td>\n",
       "      <td>pm25</td>\n",
       "      <td>11.8</td>\n",
       "      <td>{'utc': '2023-05-13T06:28:40+00:00', 'local': ...</td>\n",
       "      <td>µg/m³</td>\n",
       "      <td>{'latitude': 42.3973, 'longitude': -71.03321}</td>\n",
       "      <td>US</td>\n",
       "      <td>None</td>\n",
       "      <td>False</td>\n",
       "      <td>None</td>\n",
       "      <td>Community Organization</td>\n",
       "      <td>low-cost sensor</td>\n",
       "    </tr>\n",
       "    <tr>\n",
       "      <th>9997</th>\n",
       "      <td>224400</td>\n",
       "      <td>DEP 2B43</td>\n",
       "      <td>pm25</td>\n",
       "      <td>10.7</td>\n",
       "      <td>{'utc': '2023-05-13T06:26:41+00:00', 'local': ...</td>\n",
       "      <td>µg/m³</td>\n",
       "      <td>{'latitude': 42.3973, 'longitude': -71.03321}</td>\n",
       "      <td>US</td>\n",
       "      <td>None</td>\n",
       "      <td>False</td>\n",
       "      <td>None</td>\n",
       "      <td>Community Organization</td>\n",
       "      <td>low-cost sensor</td>\n",
       "    </tr>\n",
       "    <tr>\n",
       "      <th>9998</th>\n",
       "      <td>224400</td>\n",
       "      <td>DEP 2B43</td>\n",
       "      <td>pm25</td>\n",
       "      <td>10.7</td>\n",
       "      <td>{'utc': '2023-05-13T06:24:43+00:00', 'local': ...</td>\n",
       "      <td>µg/m³</td>\n",
       "      <td>{'latitude': 42.3973, 'longitude': -71.03321}</td>\n",
       "      <td>US</td>\n",
       "      <td>None</td>\n",
       "      <td>False</td>\n",
       "      <td>None</td>\n",
       "      <td>Community Organization</td>\n",
       "      <td>low-cost sensor</td>\n",
       "    </tr>\n",
       "    <tr>\n",
       "      <th>9999</th>\n",
       "      <td>224400</td>\n",
       "      <td>DEP 2B43</td>\n",
       "      <td>pm25</td>\n",
       "      <td>11.3</td>\n",
       "      <td>{'utc': '2023-05-13T06:22:41+00:00', 'local': ...</td>\n",
       "      <td>µg/m³</td>\n",
       "      <td>{'latitude': 42.3973, 'longitude': -71.03321}</td>\n",
       "      <td>US</td>\n",
       "      <td>None</td>\n",
       "      <td>False</td>\n",
       "      <td>None</td>\n",
       "      <td>Community Organization</td>\n",
       "      <td>low-cost sensor</td>\n",
       "    </tr>\n",
       "  </tbody>\n",
       "</table>\n",
       "<p>120000 rows × 13 columns</p>\n",
       "</div>"
      ],
      "text/plain": [
       "      locationId          location parameter  value  \\\n",
       "0            448  Boston - Roxbury      pm25    8.0   \n",
       "1            448  Boston - Roxbury      pm25    8.0   \n",
       "2            448  Boston - Roxbury      pm25    7.0   \n",
       "3            448  Boston - Roxbury      pm25    6.0   \n",
       "4            448  Boston - Roxbury      pm25    6.0   \n",
       "...          ...               ...       ...    ...   \n",
       "9995      224400          DEP 2B43      pm25   11.6   \n",
       "9996      224400          DEP 2B43      pm25   11.8   \n",
       "9997      224400          DEP 2B43      pm25   10.7   \n",
       "9998      224400          DEP 2B43      pm25   10.7   \n",
       "9999      224400          DEP 2B43      pm25   11.3   \n",
       "\n",
       "                                                   date   unit  \\\n",
       "0     {'utc': '2023-05-10T23:00:00+00:00', 'local': ...  µg/m³   \n",
       "1     {'utc': '2023-05-10T22:00:00+00:00', 'local': ...  µg/m³   \n",
       "2     {'utc': '2023-05-10T21:00:00+00:00', 'local': ...  µg/m³   \n",
       "3     {'utc': '2023-05-10T20:00:00+00:00', 'local': ...  µg/m³   \n",
       "4     {'utc': '2023-05-10T19:00:00+00:00', 'local': ...  µg/m³   \n",
       "...                                                 ...    ...   \n",
       "9995  {'utc': '2023-05-13T06:30:43+00:00', 'local': ...  µg/m³   \n",
       "9996  {'utc': '2023-05-13T06:28:40+00:00', 'local': ...  µg/m³   \n",
       "9997  {'utc': '2023-05-13T06:26:41+00:00', 'local': ...  µg/m³   \n",
       "9998  {'utc': '2023-05-13T06:24:43+00:00', 'local': ...  µg/m³   \n",
       "9999  {'utc': '2023-05-13T06:22:41+00:00', 'local': ...  µg/m³   \n",
       "\n",
       "                                           coordinates country  city  \\\n",
       "0     {'latitude': 42.329399, 'longitude': -71.082497}      US  None   \n",
       "1     {'latitude': 42.329399, 'longitude': -71.082497}      US  None   \n",
       "2     {'latitude': 42.329399, 'longitude': -71.082497}      US  None   \n",
       "3     {'latitude': 42.329399, 'longitude': -71.082497}      US  None   \n",
       "4     {'latitude': 42.329399, 'longitude': -71.082497}      US  None   \n",
       "...                                                ...     ...   ...   \n",
       "9995     {'latitude': 42.3973, 'longitude': -71.03321}      US  None   \n",
       "9996     {'latitude': 42.3973, 'longitude': -71.03321}      US  None   \n",
       "9997     {'latitude': 42.3973, 'longitude': -71.03321}      US  None   \n",
       "9998     {'latitude': 42.3973, 'longitude': -71.03321}      US  None   \n",
       "9999     {'latitude': 42.3973, 'longitude': -71.03321}      US  None   \n",
       "\n",
       "      isMobile isAnalysis                     entity       sensorType  \n",
       "0        False       None  Governmental Organization  reference grade  \n",
       "1        False       None  Governmental Organization  reference grade  \n",
       "2        False       None  Governmental Organization  reference grade  \n",
       "3        False       None  Governmental Organization  reference grade  \n",
       "4        False       None  Governmental Organization  reference grade  \n",
       "...        ...        ...                        ...              ...  \n",
       "9995     False       None     Community Organization  low-cost sensor  \n",
       "9996     False       None     Community Organization  low-cost sensor  \n",
       "9997     False       None     Community Organization  low-cost sensor  \n",
       "9998     False       None     Community Organization  low-cost sensor  \n",
       "9999     False       None     Community Organization  low-cost sensor  \n",
       "\n",
       "[120000 rows x 13 columns]"
      ]
     },
     "execution_count": 227,
     "metadata": {},
     "output_type": "execute_result"
    }
   ],
   "source": [
    "df_combined = pd.concat(\n",
    "    [\n",
    "    df_comb9,json_df12\n",
    "    ], axis=0\n",
    ")\n",
    "df_combined"
   ]
  },
  {
   "cell_type": "code",
   "execution_count": 228,
   "id": "7e549fe1-f149-4030-8037-f594673a3672",
   "metadata": {},
   "outputs": [],
   "source": [
    "df_combined.to_csv(\"/home/jovyan/homework/hw1/Boston_CSV.csv\")"
   ]
  },
  {
   "cell_type": "code",
   "execution_count": 230,
   "id": "ac9e5e3d-02aa-4dd2-a39a-171563c0ac99",
   "metadata": {},
   "outputs": [],
   "source": [
    "df = df_combined[[\"locationId\",\"location\",\"parameter\",\"value\",\"date\",\"coordinates\",\"entity\",\"sensorType\"]].set_index([\"locationId\"])"
   ]
  },
  {
   "cell_type": "code",
   "execution_count": 231,
   "id": "c12fed71-345e-4250-baa2-7039a2fe0bf4",
   "metadata": {},
   "outputs": [
    {
     "data": {
      "text/html": [
       "<div>\n",
       "<style scoped>\n",
       "    .dataframe tbody tr th:only-of-type {\n",
       "        vertical-align: middle;\n",
       "    }\n",
       "\n",
       "    .dataframe tbody tr th {\n",
       "        vertical-align: top;\n",
       "    }\n",
       "\n",
       "    .dataframe thead th {\n",
       "        text-align: right;\n",
       "    }\n",
       "</style>\n",
       "<table border=\"1\" class=\"dataframe\">\n",
       "  <thead>\n",
       "    <tr style=\"text-align: right;\">\n",
       "      <th></th>\n",
       "      <th>location</th>\n",
       "      <th>parameter</th>\n",
       "      <th>value</th>\n",
       "      <th>date</th>\n",
       "      <th>coordinates</th>\n",
       "      <th>entity</th>\n",
       "      <th>sensorType</th>\n",
       "    </tr>\n",
       "    <tr>\n",
       "      <th>locationId</th>\n",
       "      <th></th>\n",
       "      <th></th>\n",
       "      <th></th>\n",
       "      <th></th>\n",
       "      <th></th>\n",
       "      <th></th>\n",
       "      <th></th>\n",
       "    </tr>\n",
       "  </thead>\n",
       "  <tbody>\n",
       "    <tr>\n",
       "      <th>448</th>\n",
       "      <td>Boston - Roxbury</td>\n",
       "      <td>pm25</td>\n",
       "      <td>8.0</td>\n",
       "      <td>{'utc': '2023-05-10T23:00:00+00:00', 'local': ...</td>\n",
       "      <td>{'latitude': 42.329399, 'longitude': -71.082497}</td>\n",
       "      <td>Governmental Organization</td>\n",
       "      <td>reference grade</td>\n",
       "    </tr>\n",
       "    <tr>\n",
       "      <th>448</th>\n",
       "      <td>Boston - Roxbury</td>\n",
       "      <td>pm25</td>\n",
       "      <td>8.0</td>\n",
       "      <td>{'utc': '2023-05-10T22:00:00+00:00', 'local': ...</td>\n",
       "      <td>{'latitude': 42.329399, 'longitude': -71.082497}</td>\n",
       "      <td>Governmental Organization</td>\n",
       "      <td>reference grade</td>\n",
       "    </tr>\n",
       "    <tr>\n",
       "      <th>448</th>\n",
       "      <td>Boston - Roxbury</td>\n",
       "      <td>pm25</td>\n",
       "      <td>7.0</td>\n",
       "      <td>{'utc': '2023-05-10T21:00:00+00:00', 'local': ...</td>\n",
       "      <td>{'latitude': 42.329399, 'longitude': -71.082497}</td>\n",
       "      <td>Governmental Organization</td>\n",
       "      <td>reference grade</td>\n",
       "    </tr>\n",
       "    <tr>\n",
       "      <th>448</th>\n",
       "      <td>Boston - Roxbury</td>\n",
       "      <td>pm25</td>\n",
       "      <td>6.0</td>\n",
       "      <td>{'utc': '2023-05-10T20:00:00+00:00', 'local': ...</td>\n",
       "      <td>{'latitude': 42.329399, 'longitude': -71.082497}</td>\n",
       "      <td>Governmental Organization</td>\n",
       "      <td>reference grade</td>\n",
       "    </tr>\n",
       "    <tr>\n",
       "      <th>448</th>\n",
       "      <td>Boston - Roxbury</td>\n",
       "      <td>pm25</td>\n",
       "      <td>6.0</td>\n",
       "      <td>{'utc': '2023-05-10T19:00:00+00:00', 'local': ...</td>\n",
       "      <td>{'latitude': 42.329399, 'longitude': -71.082497}</td>\n",
       "      <td>Governmental Organization</td>\n",
       "      <td>reference grade</td>\n",
       "    </tr>\n",
       "  </tbody>\n",
       "</table>\n",
       "</div>"
      ],
      "text/plain": [
       "                    location parameter  value  \\\n",
       "locationId                                      \n",
       "448         Boston - Roxbury      pm25    8.0   \n",
       "448         Boston - Roxbury      pm25    8.0   \n",
       "448         Boston - Roxbury      pm25    7.0   \n",
       "448         Boston - Roxbury      pm25    6.0   \n",
       "448         Boston - Roxbury      pm25    6.0   \n",
       "\n",
       "                                                         date  \\\n",
       "locationId                                                      \n",
       "448         {'utc': '2023-05-10T23:00:00+00:00', 'local': ...   \n",
       "448         {'utc': '2023-05-10T22:00:00+00:00', 'local': ...   \n",
       "448         {'utc': '2023-05-10T21:00:00+00:00', 'local': ...   \n",
       "448         {'utc': '2023-05-10T20:00:00+00:00', 'local': ...   \n",
       "448         {'utc': '2023-05-10T19:00:00+00:00', 'local': ...   \n",
       "\n",
       "                                                 coordinates  \\\n",
       "locationId                                                     \n",
       "448         {'latitude': 42.329399, 'longitude': -71.082497}   \n",
       "448         {'latitude': 42.329399, 'longitude': -71.082497}   \n",
       "448         {'latitude': 42.329399, 'longitude': -71.082497}   \n",
       "448         {'latitude': 42.329399, 'longitude': -71.082497}   \n",
       "448         {'latitude': 42.329399, 'longitude': -71.082497}   \n",
       "\n",
       "                               entity       sensorType  \n",
       "locationId                                              \n",
       "448         Governmental Organization  reference grade  \n",
       "448         Governmental Organization  reference grade  \n",
       "448         Governmental Organization  reference grade  \n",
       "448         Governmental Organization  reference grade  \n",
       "448         Governmental Organization  reference grade  "
      ]
     },
     "execution_count": 231,
     "metadata": {},
     "output_type": "execute_result"
    }
   ],
   "source": [
    "df.head()"
   ]
  },
  {
   "cell_type": "code",
   "execution_count": 232,
   "id": "9eaa1c7c-09b5-40b1-b03e-7b670df5b118",
   "metadata": {},
   "outputs": [],
   "source": [
    "df[\"coordinates\"] = df[\"coordinates\"].astype(str)"
   ]
  },
  {
   "cell_type": "code",
   "execution_count": 233,
   "id": "1ff6ba72-75a3-4941-9b45-e6063465bdd4",
   "metadata": {},
   "outputs": [],
   "source": [
    "s = df[\"coordinates\"].str.split(pat= \",\", n = 1, expand = True)"
   ]
  },
  {
   "cell_type": "code",
   "execution_count": 234,
   "id": "3aefb23f-1108-4f1e-b46f-b224f741fbb0",
   "metadata": {},
   "outputs": [],
   "source": [
    "s.columns = [\"sensor_lat\", \"sensor_lon\"]"
   ]
  },
  {
   "cell_type": "code",
   "execution_count": 235,
   "id": "3fa86843-1c06-45f3-8493-6463f99098b4",
   "metadata": {},
   "outputs": [],
   "source": [
    "l = s[\"sensor_lat\"].str.split(pat= \" \", n=1, expand = True)"
   ]
  },
  {
   "cell_type": "code",
   "execution_count": 236,
   "id": "819d5dcf-6c58-4696-bb0c-576df4b65bf1",
   "metadata": {},
   "outputs": [],
   "source": [
    "l.columns = [\"text\", \"sensor_lat\"]"
   ]
  },
  {
   "cell_type": "code",
   "execution_count": 237,
   "id": "dc9a3504-b504-42a0-b214-9cf63b708ff6",
   "metadata": {},
   "outputs": [],
   "source": [
    "sensor_lat = l[\"sensor_lat\"]"
   ]
  },
  {
   "cell_type": "code",
   "execution_count": 238,
   "id": "ef30fd01-a6f3-47d4-8ba0-6eaf3f1eb2b1",
   "metadata": {},
   "outputs": [
    {
     "data": {
      "text/plain": [
       "locationId\n",
       "448       42.329399\n",
       "448       42.329399\n",
       "448       42.329399\n",
       "448       42.329399\n",
       "448       42.329399\n",
       "            ...    \n",
       "224400      42.3973\n",
       "224400      42.3973\n",
       "224400      42.3973\n",
       "224400      42.3973\n",
       "224400      42.3973\n",
       "Name: sensor_lat, Length: 120000, dtype: object"
      ]
     },
     "execution_count": 238,
     "metadata": {},
     "output_type": "execute_result"
    }
   ],
   "source": [
    "sensor_lat"
   ]
  },
  {
   "cell_type": "code",
   "execution_count": 239,
   "id": "5210d2f0-b6d2-450c-92be-1570868df375",
   "metadata": {},
   "outputs": [],
   "source": [
    "sensor_lat = pd.DataFrame(sensor_lat)"
   ]
  },
  {
   "cell_type": "code",
   "execution_count": 240,
   "id": "f0014ab4-e90d-4761-b00a-6927b8344474",
   "metadata": {},
   "outputs": [],
   "source": [
    "lon=s[\"sensor_lon\"].str.split(pat= \":\", n=1, expand = True)"
   ]
  },
  {
   "cell_type": "code",
   "execution_count": 241,
   "id": "3a4d1830-4f3c-47d9-9607-d3e4771786d4",
   "metadata": {},
   "outputs": [],
   "source": [
    "lon.columns = [\"text\", \"sensor_lon\"]"
   ]
  },
  {
   "cell_type": "code",
   "execution_count": 242,
   "id": "534bfd9e-e397-4b90-9115-8cfb138c4667",
   "metadata": {},
   "outputs": [],
   "source": [
    "long= lon[\"sensor_lon\"].str.split(pat= \"}\", n=1, expand = True)"
   ]
  },
  {
   "cell_type": "code",
   "execution_count": 243,
   "id": "2aa36a7e-0bf7-4df2-a093-2be552b8d258",
   "metadata": {},
   "outputs": [],
   "source": [
    "long.columns = [\"sensor_lon\", \"blank\"]"
   ]
  },
  {
   "cell_type": "code",
   "execution_count": 244,
   "id": "dccad47d-cf38-4439-9a27-d8fdeab57c60",
   "metadata": {},
   "outputs": [],
   "source": [
    "sens_lon = long[\"sensor_lon\"]"
   ]
  },
  {
   "cell_type": "code",
   "execution_count": 245,
   "id": "fada8f02-d504-462a-85d9-2b3f46830758",
   "metadata": {},
   "outputs": [],
   "source": [
    "sens_lon = pd.DataFrame(sens_lon)"
   ]
  },
  {
   "cell_type": "code",
   "execution_count": 246,
   "id": "f2da69fa-d526-4e05-9423-77330beaedd2",
   "metadata": {},
   "outputs": [
    {
     "data": {
      "text/html": [
       "<div>\n",
       "<style scoped>\n",
       "    .dataframe tbody tr th:only-of-type {\n",
       "        vertical-align: middle;\n",
       "    }\n",
       "\n",
       "    .dataframe tbody tr th {\n",
       "        vertical-align: top;\n",
       "    }\n",
       "\n",
       "    .dataframe thead th {\n",
       "        text-align: right;\n",
       "    }\n",
       "</style>\n",
       "<table border=\"1\" class=\"dataframe\">\n",
       "  <thead>\n",
       "    <tr style=\"text-align: right;\">\n",
       "      <th></th>\n",
       "      <th>sensor_lon</th>\n",
       "      <th>sensor_lat</th>\n",
       "    </tr>\n",
       "    <tr>\n",
       "      <th>locationId</th>\n",
       "      <th></th>\n",
       "      <th></th>\n",
       "    </tr>\n",
       "  </thead>\n",
       "  <tbody>\n",
       "    <tr>\n",
       "      <th>448</th>\n",
       "      <td>-71.082497</td>\n",
       "      <td>42.329399</td>\n",
       "    </tr>\n",
       "    <tr>\n",
       "      <th>448</th>\n",
       "      <td>-71.082497</td>\n",
       "      <td>42.329399</td>\n",
       "    </tr>\n",
       "    <tr>\n",
       "      <th>448</th>\n",
       "      <td>-71.082497</td>\n",
       "      <td>42.329399</td>\n",
       "    </tr>\n",
       "    <tr>\n",
       "      <th>448</th>\n",
       "      <td>-71.082497</td>\n",
       "      <td>42.329399</td>\n",
       "    </tr>\n",
       "    <tr>\n",
       "      <th>448</th>\n",
       "      <td>-71.082497</td>\n",
       "      <td>42.329399</td>\n",
       "    </tr>\n",
       "    <tr>\n",
       "      <th>...</th>\n",
       "      <td>...</td>\n",
       "      <td>...</td>\n",
       "    </tr>\n",
       "    <tr>\n",
       "      <th>224400</th>\n",
       "      <td>-71.03321</td>\n",
       "      <td>42.3973</td>\n",
       "    </tr>\n",
       "    <tr>\n",
       "      <th>224400</th>\n",
       "      <td>-71.03321</td>\n",
       "      <td>42.3973</td>\n",
       "    </tr>\n",
       "    <tr>\n",
       "      <th>224400</th>\n",
       "      <td>-71.03321</td>\n",
       "      <td>42.3973</td>\n",
       "    </tr>\n",
       "    <tr>\n",
       "      <th>224400</th>\n",
       "      <td>-71.03321</td>\n",
       "      <td>42.3973</td>\n",
       "    </tr>\n",
       "    <tr>\n",
       "      <th>224400</th>\n",
       "      <td>-71.03321</td>\n",
       "      <td>42.3973</td>\n",
       "    </tr>\n",
       "  </tbody>\n",
       "</table>\n",
       "<p>120000 rows × 2 columns</p>\n",
       "</div>"
      ],
      "text/plain": [
       "             sensor_lon sensor_lat\n",
       "locationId                        \n",
       "448          -71.082497  42.329399\n",
       "448          -71.082497  42.329399\n",
       "448          -71.082497  42.329399\n",
       "448          -71.082497  42.329399\n",
       "448          -71.082497  42.329399\n",
       "...                 ...        ...\n",
       "224400        -71.03321    42.3973\n",
       "224400        -71.03321    42.3973\n",
       "224400        -71.03321    42.3973\n",
       "224400        -71.03321    42.3973\n",
       "224400        -71.03321    42.3973\n",
       "\n",
       "[120000 rows x 2 columns]"
      ]
     },
     "execution_count": 246,
     "metadata": {},
     "output_type": "execute_result"
    }
   ],
   "source": [
    "coor_cleaned = pd.concat(\n",
    "    [\n",
    "    sens_lon, sensor_lat\n",
    "    ], axis=1\n",
    ")\n",
    "coor_cleaned"
   ]
  },
  {
   "cell_type": "code",
   "execution_count": 247,
   "id": "4c59a73a-9492-4c39-b5d2-70dddaa9a9d4",
   "metadata": {},
   "outputs": [],
   "source": [
    "# Combine df + sens_lon + sens_lat"
   ]
  },
  {
   "cell_type": "code",
   "execution_count": 248,
   "id": "db1f984d-ea35-4b9b-b23f-a60d7942c6e6",
   "metadata": {},
   "outputs": [
    {
     "data": {
      "text/html": [
       "<div>\n",
       "<style scoped>\n",
       "    .dataframe tbody tr th:only-of-type {\n",
       "        vertical-align: middle;\n",
       "    }\n",
       "\n",
       "    .dataframe tbody tr th {\n",
       "        vertical-align: top;\n",
       "    }\n",
       "\n",
       "    .dataframe thead th {\n",
       "        text-align: right;\n",
       "    }\n",
       "</style>\n",
       "<table border=\"1\" class=\"dataframe\">\n",
       "  <thead>\n",
       "    <tr style=\"text-align: right;\">\n",
       "      <th></th>\n",
       "      <th>location</th>\n",
       "      <th>parameter</th>\n",
       "      <th>value</th>\n",
       "      <th>date</th>\n",
       "      <th>coordinates</th>\n",
       "      <th>entity</th>\n",
       "      <th>sensorType</th>\n",
       "      <th>sensor_lon</th>\n",
       "      <th>sensor_lat</th>\n",
       "    </tr>\n",
       "    <tr>\n",
       "      <th>locationId</th>\n",
       "      <th></th>\n",
       "      <th></th>\n",
       "      <th></th>\n",
       "      <th></th>\n",
       "      <th></th>\n",
       "      <th></th>\n",
       "      <th></th>\n",
       "      <th></th>\n",
       "      <th></th>\n",
       "    </tr>\n",
       "  </thead>\n",
       "  <tbody>\n",
       "    <tr>\n",
       "      <th>448</th>\n",
       "      <td>Boston - Roxbury</td>\n",
       "      <td>pm25</td>\n",
       "      <td>8.0</td>\n",
       "      <td>{'utc': '2023-05-10T23:00:00+00:00', 'local': ...</td>\n",
       "      <td>{'latitude': 42.329399, 'longitude': -71.082497}</td>\n",
       "      <td>Governmental Organization</td>\n",
       "      <td>reference grade</td>\n",
       "      <td>-71.082497</td>\n",
       "      <td>42.329399</td>\n",
       "    </tr>\n",
       "    <tr>\n",
       "      <th>448</th>\n",
       "      <td>Boston - Roxbury</td>\n",
       "      <td>pm25</td>\n",
       "      <td>8.0</td>\n",
       "      <td>{'utc': '2023-05-10T22:00:00+00:00', 'local': ...</td>\n",
       "      <td>{'latitude': 42.329399, 'longitude': -71.082497}</td>\n",
       "      <td>Governmental Organization</td>\n",
       "      <td>reference grade</td>\n",
       "      <td>-71.082497</td>\n",
       "      <td>42.329399</td>\n",
       "    </tr>\n",
       "    <tr>\n",
       "      <th>448</th>\n",
       "      <td>Boston - Roxbury</td>\n",
       "      <td>pm25</td>\n",
       "      <td>7.0</td>\n",
       "      <td>{'utc': '2023-05-10T21:00:00+00:00', 'local': ...</td>\n",
       "      <td>{'latitude': 42.329399, 'longitude': -71.082497}</td>\n",
       "      <td>Governmental Organization</td>\n",
       "      <td>reference grade</td>\n",
       "      <td>-71.082497</td>\n",
       "      <td>42.329399</td>\n",
       "    </tr>\n",
       "    <tr>\n",
       "      <th>448</th>\n",
       "      <td>Boston - Roxbury</td>\n",
       "      <td>pm25</td>\n",
       "      <td>6.0</td>\n",
       "      <td>{'utc': '2023-05-10T20:00:00+00:00', 'local': ...</td>\n",
       "      <td>{'latitude': 42.329399, 'longitude': -71.082497}</td>\n",
       "      <td>Governmental Organization</td>\n",
       "      <td>reference grade</td>\n",
       "      <td>-71.082497</td>\n",
       "      <td>42.329399</td>\n",
       "    </tr>\n",
       "    <tr>\n",
       "      <th>448</th>\n",
       "      <td>Boston - Roxbury</td>\n",
       "      <td>pm25</td>\n",
       "      <td>6.0</td>\n",
       "      <td>{'utc': '2023-05-10T19:00:00+00:00', 'local': ...</td>\n",
       "      <td>{'latitude': 42.329399, 'longitude': -71.082497}</td>\n",
       "      <td>Governmental Organization</td>\n",
       "      <td>reference grade</td>\n",
       "      <td>-71.082497</td>\n",
       "      <td>42.329399</td>\n",
       "    </tr>\n",
       "    <tr>\n",
       "      <th>...</th>\n",
       "      <td>...</td>\n",
       "      <td>...</td>\n",
       "      <td>...</td>\n",
       "      <td>...</td>\n",
       "      <td>...</td>\n",
       "      <td>...</td>\n",
       "      <td>...</td>\n",
       "      <td>...</td>\n",
       "      <td>...</td>\n",
       "    </tr>\n",
       "    <tr>\n",
       "      <th>224400</th>\n",
       "      <td>DEP 2B43</td>\n",
       "      <td>pm25</td>\n",
       "      <td>11.6</td>\n",
       "      <td>{'utc': '2023-05-13T06:30:43+00:00', 'local': ...</td>\n",
       "      <td>{'latitude': 42.3973, 'longitude': -71.03321}</td>\n",
       "      <td>Community Organization</td>\n",
       "      <td>low-cost sensor</td>\n",
       "      <td>-71.03321</td>\n",
       "      <td>42.3973</td>\n",
       "    </tr>\n",
       "    <tr>\n",
       "      <th>224400</th>\n",
       "      <td>DEP 2B43</td>\n",
       "      <td>pm25</td>\n",
       "      <td>11.8</td>\n",
       "      <td>{'utc': '2023-05-13T06:28:40+00:00', 'local': ...</td>\n",
       "      <td>{'latitude': 42.3973, 'longitude': -71.03321}</td>\n",
       "      <td>Community Organization</td>\n",
       "      <td>low-cost sensor</td>\n",
       "      <td>-71.03321</td>\n",
       "      <td>42.3973</td>\n",
       "    </tr>\n",
       "    <tr>\n",
       "      <th>224400</th>\n",
       "      <td>DEP 2B43</td>\n",
       "      <td>pm25</td>\n",
       "      <td>10.7</td>\n",
       "      <td>{'utc': '2023-05-13T06:26:41+00:00', 'local': ...</td>\n",
       "      <td>{'latitude': 42.3973, 'longitude': -71.03321}</td>\n",
       "      <td>Community Organization</td>\n",
       "      <td>low-cost sensor</td>\n",
       "      <td>-71.03321</td>\n",
       "      <td>42.3973</td>\n",
       "    </tr>\n",
       "    <tr>\n",
       "      <th>224400</th>\n",
       "      <td>DEP 2B43</td>\n",
       "      <td>pm25</td>\n",
       "      <td>10.7</td>\n",
       "      <td>{'utc': '2023-05-13T06:24:43+00:00', 'local': ...</td>\n",
       "      <td>{'latitude': 42.3973, 'longitude': -71.03321}</td>\n",
       "      <td>Community Organization</td>\n",
       "      <td>low-cost sensor</td>\n",
       "      <td>-71.03321</td>\n",
       "      <td>42.3973</td>\n",
       "    </tr>\n",
       "    <tr>\n",
       "      <th>224400</th>\n",
       "      <td>DEP 2B43</td>\n",
       "      <td>pm25</td>\n",
       "      <td>11.3</td>\n",
       "      <td>{'utc': '2023-05-13T06:22:41+00:00', 'local': ...</td>\n",
       "      <td>{'latitude': 42.3973, 'longitude': -71.03321}</td>\n",
       "      <td>Community Organization</td>\n",
       "      <td>low-cost sensor</td>\n",
       "      <td>-71.03321</td>\n",
       "      <td>42.3973</td>\n",
       "    </tr>\n",
       "  </tbody>\n",
       "</table>\n",
       "<p>120000 rows × 9 columns</p>\n",
       "</div>"
      ],
      "text/plain": [
       "                    location parameter  value  \\\n",
       "locationId                                      \n",
       "448         Boston - Roxbury      pm25    8.0   \n",
       "448         Boston - Roxbury      pm25    8.0   \n",
       "448         Boston - Roxbury      pm25    7.0   \n",
       "448         Boston - Roxbury      pm25    6.0   \n",
       "448         Boston - Roxbury      pm25    6.0   \n",
       "...                      ...       ...    ...   \n",
       "224400              DEP 2B43      pm25   11.6   \n",
       "224400              DEP 2B43      pm25   11.8   \n",
       "224400              DEP 2B43      pm25   10.7   \n",
       "224400              DEP 2B43      pm25   10.7   \n",
       "224400              DEP 2B43      pm25   11.3   \n",
       "\n",
       "                                                         date  \\\n",
       "locationId                                                      \n",
       "448         {'utc': '2023-05-10T23:00:00+00:00', 'local': ...   \n",
       "448         {'utc': '2023-05-10T22:00:00+00:00', 'local': ...   \n",
       "448         {'utc': '2023-05-10T21:00:00+00:00', 'local': ...   \n",
       "448         {'utc': '2023-05-10T20:00:00+00:00', 'local': ...   \n",
       "448         {'utc': '2023-05-10T19:00:00+00:00', 'local': ...   \n",
       "...                                                       ...   \n",
       "224400      {'utc': '2023-05-13T06:30:43+00:00', 'local': ...   \n",
       "224400      {'utc': '2023-05-13T06:28:40+00:00', 'local': ...   \n",
       "224400      {'utc': '2023-05-13T06:26:41+00:00', 'local': ...   \n",
       "224400      {'utc': '2023-05-13T06:24:43+00:00', 'local': ...   \n",
       "224400      {'utc': '2023-05-13T06:22:41+00:00', 'local': ...   \n",
       "\n",
       "                                                 coordinates  \\\n",
       "locationId                                                     \n",
       "448         {'latitude': 42.329399, 'longitude': -71.082497}   \n",
       "448         {'latitude': 42.329399, 'longitude': -71.082497}   \n",
       "448         {'latitude': 42.329399, 'longitude': -71.082497}   \n",
       "448         {'latitude': 42.329399, 'longitude': -71.082497}   \n",
       "448         {'latitude': 42.329399, 'longitude': -71.082497}   \n",
       "...                                                      ...   \n",
       "224400         {'latitude': 42.3973, 'longitude': -71.03321}   \n",
       "224400         {'latitude': 42.3973, 'longitude': -71.03321}   \n",
       "224400         {'latitude': 42.3973, 'longitude': -71.03321}   \n",
       "224400         {'latitude': 42.3973, 'longitude': -71.03321}   \n",
       "224400         {'latitude': 42.3973, 'longitude': -71.03321}   \n",
       "\n",
       "                               entity       sensorType   sensor_lon sensor_lat  \n",
       "locationId                                                                      \n",
       "448         Governmental Organization  reference grade   -71.082497  42.329399  \n",
       "448         Governmental Organization  reference grade   -71.082497  42.329399  \n",
       "448         Governmental Organization  reference grade   -71.082497  42.329399  \n",
       "448         Governmental Organization  reference grade   -71.082497  42.329399  \n",
       "448         Governmental Organization  reference grade   -71.082497  42.329399  \n",
       "...                               ...              ...          ...        ...  \n",
       "224400         Community Organization  low-cost sensor    -71.03321    42.3973  \n",
       "224400         Community Organization  low-cost sensor    -71.03321    42.3973  \n",
       "224400         Community Organization  low-cost sensor    -71.03321    42.3973  \n",
       "224400         Community Organization  low-cost sensor    -71.03321    42.3973  \n",
       "224400         Community Organization  low-cost sensor    -71.03321    42.3973  \n",
       "\n",
       "[120000 rows x 9 columns]"
      ]
     },
     "execution_count": 248,
     "metadata": {},
     "output_type": "execute_result"
    }
   ],
   "source": [
    "df_cleaned = pd.concat(\n",
    "    [\n",
    "    df, coor_cleaned\n",
    "    ], axis=1\n",
    ")\n",
    "df_cleaned        "
   ]
  },
  {
   "cell_type": "code",
   "execution_count": 249,
   "id": "2cd1aa89-1c41-4c94-b039-0a2f5b1469f0",
   "metadata": {},
   "outputs": [
    {
     "data": {
      "text/html": [
       "<div>\n",
       "<style scoped>\n",
       "    .dataframe tbody tr th:only-of-type {\n",
       "        vertical-align: middle;\n",
       "    }\n",
       "\n",
       "    .dataframe tbody tr th {\n",
       "        vertical-align: top;\n",
       "    }\n",
       "\n",
       "    .dataframe thead th {\n",
       "        text-align: right;\n",
       "    }\n",
       "</style>\n",
       "<table border=\"1\" class=\"dataframe\">\n",
       "  <thead>\n",
       "    <tr style=\"text-align: right;\">\n",
       "      <th></th>\n",
       "      <th>location</th>\n",
       "      <th>parameter</th>\n",
       "      <th>value</th>\n",
       "      <th>date</th>\n",
       "      <th>coordinates</th>\n",
       "      <th>entity</th>\n",
       "      <th>sensorType</th>\n",
       "      <th>sensor_lon</th>\n",
       "      <th>sensor_lat</th>\n",
       "    </tr>\n",
       "    <tr>\n",
       "      <th>locationId</th>\n",
       "      <th></th>\n",
       "      <th></th>\n",
       "      <th></th>\n",
       "      <th></th>\n",
       "      <th></th>\n",
       "      <th></th>\n",
       "      <th></th>\n",
       "      <th></th>\n",
       "      <th></th>\n",
       "    </tr>\n",
       "  </thead>\n",
       "  <tbody>\n",
       "    <tr>\n",
       "      <th>448</th>\n",
       "      <td>Boston - Roxbury</td>\n",
       "      <td>pm25</td>\n",
       "      <td>8.0</td>\n",
       "      <td>{'utc': '2023-05-10T23:00:00+00:00', 'local': ...</td>\n",
       "      <td>{'latitude': 42.329399, 'longitude': -71.082497}</td>\n",
       "      <td>Governmental Organization</td>\n",
       "      <td>reference grade</td>\n",
       "      <td>-71.082497</td>\n",
       "      <td>42.329399</td>\n",
       "    </tr>\n",
       "    <tr>\n",
       "      <th>448</th>\n",
       "      <td>Boston - Roxbury</td>\n",
       "      <td>pm25</td>\n",
       "      <td>8.0</td>\n",
       "      <td>{'utc': '2023-05-10T22:00:00+00:00', 'local': ...</td>\n",
       "      <td>{'latitude': 42.329399, 'longitude': -71.082497}</td>\n",
       "      <td>Governmental Organization</td>\n",
       "      <td>reference grade</td>\n",
       "      <td>-71.082497</td>\n",
       "      <td>42.329399</td>\n",
       "    </tr>\n",
       "    <tr>\n",
       "      <th>448</th>\n",
       "      <td>Boston - Roxbury</td>\n",
       "      <td>pm25</td>\n",
       "      <td>7.0</td>\n",
       "      <td>{'utc': '2023-05-10T21:00:00+00:00', 'local': ...</td>\n",
       "      <td>{'latitude': 42.329399, 'longitude': -71.082497}</td>\n",
       "      <td>Governmental Organization</td>\n",
       "      <td>reference grade</td>\n",
       "      <td>-71.082497</td>\n",
       "      <td>42.329399</td>\n",
       "    </tr>\n",
       "    <tr>\n",
       "      <th>448</th>\n",
       "      <td>Boston - Roxbury</td>\n",
       "      <td>pm25</td>\n",
       "      <td>6.0</td>\n",
       "      <td>{'utc': '2023-05-10T20:00:00+00:00', 'local': ...</td>\n",
       "      <td>{'latitude': 42.329399, 'longitude': -71.082497}</td>\n",
       "      <td>Governmental Organization</td>\n",
       "      <td>reference grade</td>\n",
       "      <td>-71.082497</td>\n",
       "      <td>42.329399</td>\n",
       "    </tr>\n",
       "    <tr>\n",
       "      <th>448</th>\n",
       "      <td>Boston - Roxbury</td>\n",
       "      <td>pm25</td>\n",
       "      <td>6.0</td>\n",
       "      <td>{'utc': '2023-05-10T19:00:00+00:00', 'local': ...</td>\n",
       "      <td>{'latitude': 42.329399, 'longitude': -71.082497}</td>\n",
       "      <td>Governmental Organization</td>\n",
       "      <td>reference grade</td>\n",
       "      <td>-71.082497</td>\n",
       "      <td>42.329399</td>\n",
       "    </tr>\n",
       "  </tbody>\n",
       "</table>\n",
       "</div>"
      ],
      "text/plain": [
       "                    location parameter  value  \\\n",
       "locationId                                      \n",
       "448         Boston - Roxbury      pm25    8.0   \n",
       "448         Boston - Roxbury      pm25    8.0   \n",
       "448         Boston - Roxbury      pm25    7.0   \n",
       "448         Boston - Roxbury      pm25    6.0   \n",
       "448         Boston - Roxbury      pm25    6.0   \n",
       "\n",
       "                                                         date  \\\n",
       "locationId                                                      \n",
       "448         {'utc': '2023-05-10T23:00:00+00:00', 'local': ...   \n",
       "448         {'utc': '2023-05-10T22:00:00+00:00', 'local': ...   \n",
       "448         {'utc': '2023-05-10T21:00:00+00:00', 'local': ...   \n",
       "448         {'utc': '2023-05-10T20:00:00+00:00', 'local': ...   \n",
       "448         {'utc': '2023-05-10T19:00:00+00:00', 'local': ...   \n",
       "\n",
       "                                                 coordinates  \\\n",
       "locationId                                                     \n",
       "448         {'latitude': 42.329399, 'longitude': -71.082497}   \n",
       "448         {'latitude': 42.329399, 'longitude': -71.082497}   \n",
       "448         {'latitude': 42.329399, 'longitude': -71.082497}   \n",
       "448         {'latitude': 42.329399, 'longitude': -71.082497}   \n",
       "448         {'latitude': 42.329399, 'longitude': -71.082497}   \n",
       "\n",
       "                               entity       sensorType   sensor_lon sensor_lat  \n",
       "locationId                                                                      \n",
       "448         Governmental Organization  reference grade   -71.082497  42.329399  \n",
       "448         Governmental Organization  reference grade   -71.082497  42.329399  \n",
       "448         Governmental Organization  reference grade   -71.082497  42.329399  \n",
       "448         Governmental Organization  reference grade   -71.082497  42.329399  \n",
       "448         Governmental Organization  reference grade   -71.082497  42.329399  "
      ]
     },
     "execution_count": 249,
     "metadata": {},
     "output_type": "execute_result"
    }
   ],
   "source": [
    "df_cleaned.head()"
   ]
  },
  {
   "cell_type": "markdown",
   "id": "09aed129-b82e-4bbc-aca0-c593feaf3a45",
   "metadata": {},
   "source": [
    "---"
   ]
  },
  {
   "cell_type": "code",
   "execution_count": 250,
   "id": "fd4201cc-ad28-4e3f-ac9c-8822d404e7d5",
   "metadata": {},
   "outputs": [],
   "source": [
    "df_cleaned['date'] = df_cleaned[\"date\"].astype(str)"
   ]
  },
  {
   "cell_type": "code",
   "execution_count": 251,
   "id": "721ef72f-cc93-442d-84b3-0779d85b2edf",
   "metadata": {},
   "outputs": [],
   "source": [
    "dt = df_cleaned[\"date\"].str.split(pat= \"'local': '\", n = 1, expand = True)"
   ]
  },
  {
   "cell_type": "code",
   "execution_count": 252,
   "id": "ee783740-1717-48d9-b202-40bc2938b006",
   "metadata": {},
   "outputs": [],
   "source": [
    "dt.columns = [\"utc\", \"local\"]"
   ]
  },
  {
   "cell_type": "code",
   "execution_count": 253,
   "id": "74fb9c4e-2437-4ab9-915d-8b9185e155cb",
   "metadata": {},
   "outputs": [
    {
     "data": {
      "text/html": [
       "<div>\n",
       "<style scoped>\n",
       "    .dataframe tbody tr th:only-of-type {\n",
       "        vertical-align: middle;\n",
       "    }\n",
       "\n",
       "    .dataframe tbody tr th {\n",
       "        vertical-align: top;\n",
       "    }\n",
       "\n",
       "    .dataframe thead th {\n",
       "        text-align: right;\n",
       "    }\n",
       "</style>\n",
       "<table border=\"1\" class=\"dataframe\">\n",
       "  <thead>\n",
       "    <tr style=\"text-align: right;\">\n",
       "      <th></th>\n",
       "      <th>utc</th>\n",
       "      <th>local</th>\n",
       "    </tr>\n",
       "    <tr>\n",
       "      <th>locationId</th>\n",
       "      <th></th>\n",
       "      <th></th>\n",
       "    </tr>\n",
       "  </thead>\n",
       "  <tbody>\n",
       "    <tr>\n",
       "      <th>448</th>\n",
       "      <td>{'utc': '2023-05-10T23:00:00+00:00',</td>\n",
       "      <td>2023-05-10T19:00:00-04:00'}</td>\n",
       "    </tr>\n",
       "    <tr>\n",
       "      <th>448</th>\n",
       "      <td>{'utc': '2023-05-10T22:00:00+00:00',</td>\n",
       "      <td>2023-05-10T18:00:00-04:00'}</td>\n",
       "    </tr>\n",
       "    <tr>\n",
       "      <th>448</th>\n",
       "      <td>{'utc': '2023-05-10T21:00:00+00:00',</td>\n",
       "      <td>2023-05-10T17:00:00-04:00'}</td>\n",
       "    </tr>\n",
       "    <tr>\n",
       "      <th>448</th>\n",
       "      <td>{'utc': '2023-05-10T20:00:00+00:00',</td>\n",
       "      <td>2023-05-10T16:00:00-04:00'}</td>\n",
       "    </tr>\n",
       "    <tr>\n",
       "      <th>448</th>\n",
       "      <td>{'utc': '2023-05-10T19:00:00+00:00',</td>\n",
       "      <td>2023-05-10T15:00:00-04:00'}</td>\n",
       "    </tr>\n",
       "  </tbody>\n",
       "</table>\n",
       "</div>"
      ],
      "text/plain": [
       "                                              utc                        local\n",
       "locationId                                                                    \n",
       "448         {'utc': '2023-05-10T23:00:00+00:00',   2023-05-10T19:00:00-04:00'}\n",
       "448         {'utc': '2023-05-10T22:00:00+00:00',   2023-05-10T18:00:00-04:00'}\n",
       "448         {'utc': '2023-05-10T21:00:00+00:00',   2023-05-10T17:00:00-04:00'}\n",
       "448         {'utc': '2023-05-10T20:00:00+00:00',   2023-05-10T16:00:00-04:00'}\n",
       "448         {'utc': '2023-05-10T19:00:00+00:00',   2023-05-10T15:00:00-04:00'}"
      ]
     },
     "execution_count": 253,
     "metadata": {},
     "output_type": "execute_result"
    }
   ],
   "source": [
    "dt.head()"
   ]
  },
  {
   "cell_type": "code",
   "execution_count": 254,
   "id": "4b24607b-978f-4d84-98c2-8531798185e8",
   "metadata": {},
   "outputs": [],
   "source": [
    "local = dt[\"local\"].str.split(pat= \"'\", n=1, expand = True)"
   ]
  },
  {
   "cell_type": "code",
   "execution_count": 255,
   "id": "092386a3-d4d8-4d16-9e8c-0d1176f7cb56",
   "metadata": {},
   "outputs": [],
   "source": [
    "local.columns = [\"local_time\", \"trash\"]"
   ]
  },
  {
   "cell_type": "code",
   "execution_count": 256,
   "id": "4da308a4-aa4f-4c2c-b1bc-16b18b2b518c",
   "metadata": {},
   "outputs": [
    {
     "data": {
      "text/html": [
       "<div>\n",
       "<style scoped>\n",
       "    .dataframe tbody tr th:only-of-type {\n",
       "        vertical-align: middle;\n",
       "    }\n",
       "\n",
       "    .dataframe tbody tr th {\n",
       "        vertical-align: top;\n",
       "    }\n",
       "\n",
       "    .dataframe thead th {\n",
       "        text-align: right;\n",
       "    }\n",
       "</style>\n",
       "<table border=\"1\" class=\"dataframe\">\n",
       "  <thead>\n",
       "    <tr style=\"text-align: right;\">\n",
       "      <th></th>\n",
       "      <th>local_time</th>\n",
       "      <th>trash</th>\n",
       "    </tr>\n",
       "    <tr>\n",
       "      <th>locationId</th>\n",
       "      <th></th>\n",
       "      <th></th>\n",
       "    </tr>\n",
       "  </thead>\n",
       "  <tbody>\n",
       "    <tr>\n",
       "      <th>448</th>\n",
       "      <td>2023-05-10T19:00:00-04:00</td>\n",
       "      <td>}</td>\n",
       "    </tr>\n",
       "    <tr>\n",
       "      <th>448</th>\n",
       "      <td>2023-05-10T18:00:00-04:00</td>\n",
       "      <td>}</td>\n",
       "    </tr>\n",
       "    <tr>\n",
       "      <th>448</th>\n",
       "      <td>2023-05-10T17:00:00-04:00</td>\n",
       "      <td>}</td>\n",
       "    </tr>\n",
       "    <tr>\n",
       "      <th>448</th>\n",
       "      <td>2023-05-10T16:00:00-04:00</td>\n",
       "      <td>}</td>\n",
       "    </tr>\n",
       "    <tr>\n",
       "      <th>448</th>\n",
       "      <td>2023-05-10T15:00:00-04:00</td>\n",
       "      <td>}</td>\n",
       "    </tr>\n",
       "    <tr>\n",
       "      <th>...</th>\n",
       "      <td>...</td>\n",
       "      <td>...</td>\n",
       "    </tr>\n",
       "    <tr>\n",
       "      <th>224400</th>\n",
       "      <td>2023-05-13T02:30:43-04:00</td>\n",
       "      <td>}</td>\n",
       "    </tr>\n",
       "    <tr>\n",
       "      <th>224400</th>\n",
       "      <td>2023-05-13T02:28:40-04:00</td>\n",
       "      <td>}</td>\n",
       "    </tr>\n",
       "    <tr>\n",
       "      <th>224400</th>\n",
       "      <td>2023-05-13T02:26:41-04:00</td>\n",
       "      <td>}</td>\n",
       "    </tr>\n",
       "    <tr>\n",
       "      <th>224400</th>\n",
       "      <td>2023-05-13T02:24:43-04:00</td>\n",
       "      <td>}</td>\n",
       "    </tr>\n",
       "    <tr>\n",
       "      <th>224400</th>\n",
       "      <td>2023-05-13T02:22:41-04:00</td>\n",
       "      <td>}</td>\n",
       "    </tr>\n",
       "  </tbody>\n",
       "</table>\n",
       "<p>120000 rows × 2 columns</p>\n",
       "</div>"
      ],
      "text/plain": [
       "                           local_time trash\n",
       "locationId                                 \n",
       "448         2023-05-10T19:00:00-04:00     }\n",
       "448         2023-05-10T18:00:00-04:00     }\n",
       "448         2023-05-10T17:00:00-04:00     }\n",
       "448         2023-05-10T16:00:00-04:00     }\n",
       "448         2023-05-10T15:00:00-04:00     }\n",
       "...                               ...   ...\n",
       "224400      2023-05-13T02:30:43-04:00     }\n",
       "224400      2023-05-13T02:28:40-04:00     }\n",
       "224400      2023-05-13T02:26:41-04:00     }\n",
       "224400      2023-05-13T02:24:43-04:00     }\n",
       "224400      2023-05-13T02:22:41-04:00     }\n",
       "\n",
       "[120000 rows x 2 columns]"
      ]
     },
     "execution_count": 256,
     "metadata": {},
     "output_type": "execute_result"
    }
   ],
   "source": [
    "local"
   ]
  },
  {
   "cell_type": "code",
   "execution_count": 257,
   "id": "b4131719-7b64-4e35-b5c7-a9c56a4e4b08",
   "metadata": {},
   "outputs": [],
   "source": [
    "local_time = pd.to_datetime(local[\"local_time\"])\n",
    "local_time = pd.DataFrame(local_time)"
   ]
  },
  {
   "cell_type": "code",
   "execution_count": 258,
   "id": "9706e9d3-9ed4-46a0-92fc-458b59573b44",
   "metadata": {},
   "outputs": [
    {
     "data": {
      "text/html": [
       "<div>\n",
       "<style scoped>\n",
       "    .dataframe tbody tr th:only-of-type {\n",
       "        vertical-align: middle;\n",
       "    }\n",
       "\n",
       "    .dataframe tbody tr th {\n",
       "        vertical-align: top;\n",
       "    }\n",
       "\n",
       "    .dataframe thead th {\n",
       "        text-align: right;\n",
       "    }\n",
       "</style>\n",
       "<table border=\"1\" class=\"dataframe\">\n",
       "  <thead>\n",
       "    <tr style=\"text-align: right;\">\n",
       "      <th></th>\n",
       "      <th>local_time</th>\n",
       "    </tr>\n",
       "    <tr>\n",
       "      <th>locationId</th>\n",
       "      <th></th>\n",
       "    </tr>\n",
       "  </thead>\n",
       "  <tbody>\n",
       "    <tr>\n",
       "      <th>448</th>\n",
       "      <td>2023-05-10 19:00:00-04:00</td>\n",
       "    </tr>\n",
       "    <tr>\n",
       "      <th>448</th>\n",
       "      <td>2023-05-10 18:00:00-04:00</td>\n",
       "    </tr>\n",
       "    <tr>\n",
       "      <th>448</th>\n",
       "      <td>2023-05-10 17:00:00-04:00</td>\n",
       "    </tr>\n",
       "    <tr>\n",
       "      <th>448</th>\n",
       "      <td>2023-05-10 16:00:00-04:00</td>\n",
       "    </tr>\n",
       "    <tr>\n",
       "      <th>448</th>\n",
       "      <td>2023-05-10 15:00:00-04:00</td>\n",
       "    </tr>\n",
       "  </tbody>\n",
       "</table>\n",
       "</div>"
      ],
      "text/plain": [
       "                          local_time\n",
       "locationId                          \n",
       "448        2023-05-10 19:00:00-04:00\n",
       "448        2023-05-10 18:00:00-04:00\n",
       "448        2023-05-10 17:00:00-04:00\n",
       "448        2023-05-10 16:00:00-04:00\n",
       "448        2023-05-10 15:00:00-04:00"
      ]
     },
     "execution_count": 258,
     "metadata": {},
     "output_type": "execute_result"
    }
   ],
   "source": [
    "local_time.head()"
   ]
  },
  {
   "cell_type": "markdown",
   "id": "e6d1aa54-47c9-4725-b1a0-16691f4a9589",
   "metadata": {},
   "source": [
    "---"
   ]
  },
  {
   "cell_type": "code",
   "execution_count": 259,
   "id": "01c42b52-3928-49ed-abef-bb56f9905f55",
   "metadata": {},
   "outputs": [
    {
     "data": {
      "text/html": [
       "<div>\n",
       "<style scoped>\n",
       "    .dataframe tbody tr th:only-of-type {\n",
       "        vertical-align: middle;\n",
       "    }\n",
       "\n",
       "    .dataframe tbody tr th {\n",
       "        vertical-align: top;\n",
       "    }\n",
       "\n",
       "    .dataframe thead th {\n",
       "        text-align: right;\n",
       "    }\n",
       "</style>\n",
       "<table border=\"1\" class=\"dataframe\">\n",
       "  <thead>\n",
       "    <tr style=\"text-align: right;\">\n",
       "      <th></th>\n",
       "      <th>location</th>\n",
       "      <th>parameter</th>\n",
       "      <th>value</th>\n",
       "      <th>date</th>\n",
       "      <th>coordinates</th>\n",
       "      <th>entity</th>\n",
       "      <th>sensorType</th>\n",
       "      <th>sensor_lon</th>\n",
       "      <th>sensor_lat</th>\n",
       "      <th>local_time</th>\n",
       "    </tr>\n",
       "    <tr>\n",
       "      <th>locationId</th>\n",
       "      <th></th>\n",
       "      <th></th>\n",
       "      <th></th>\n",
       "      <th></th>\n",
       "      <th></th>\n",
       "      <th></th>\n",
       "      <th></th>\n",
       "      <th></th>\n",
       "      <th></th>\n",
       "      <th></th>\n",
       "    </tr>\n",
       "  </thead>\n",
       "  <tbody>\n",
       "    <tr>\n",
       "      <th>448</th>\n",
       "      <td>Boston - Roxbury</td>\n",
       "      <td>pm25</td>\n",
       "      <td>8.0</td>\n",
       "      <td>{'utc': '2023-05-10T23:00:00+00:00', 'local': ...</td>\n",
       "      <td>{'latitude': 42.329399, 'longitude': -71.082497}</td>\n",
       "      <td>Governmental Organization</td>\n",
       "      <td>reference grade</td>\n",
       "      <td>-71.082497</td>\n",
       "      <td>42.329399</td>\n",
       "      <td>2023-05-10 19:00:00-04:00</td>\n",
       "    </tr>\n",
       "    <tr>\n",
       "      <th>448</th>\n",
       "      <td>Boston - Roxbury</td>\n",
       "      <td>pm25</td>\n",
       "      <td>8.0</td>\n",
       "      <td>{'utc': '2023-05-10T22:00:00+00:00', 'local': ...</td>\n",
       "      <td>{'latitude': 42.329399, 'longitude': -71.082497}</td>\n",
       "      <td>Governmental Organization</td>\n",
       "      <td>reference grade</td>\n",
       "      <td>-71.082497</td>\n",
       "      <td>42.329399</td>\n",
       "      <td>2023-05-10 18:00:00-04:00</td>\n",
       "    </tr>\n",
       "    <tr>\n",
       "      <th>448</th>\n",
       "      <td>Boston - Roxbury</td>\n",
       "      <td>pm25</td>\n",
       "      <td>7.0</td>\n",
       "      <td>{'utc': '2023-05-10T21:00:00+00:00', 'local': ...</td>\n",
       "      <td>{'latitude': 42.329399, 'longitude': -71.082497}</td>\n",
       "      <td>Governmental Organization</td>\n",
       "      <td>reference grade</td>\n",
       "      <td>-71.082497</td>\n",
       "      <td>42.329399</td>\n",
       "      <td>2023-05-10 17:00:00-04:00</td>\n",
       "    </tr>\n",
       "    <tr>\n",
       "      <th>448</th>\n",
       "      <td>Boston - Roxbury</td>\n",
       "      <td>pm25</td>\n",
       "      <td>6.0</td>\n",
       "      <td>{'utc': '2023-05-10T20:00:00+00:00', 'local': ...</td>\n",
       "      <td>{'latitude': 42.329399, 'longitude': -71.082497}</td>\n",
       "      <td>Governmental Organization</td>\n",
       "      <td>reference grade</td>\n",
       "      <td>-71.082497</td>\n",
       "      <td>42.329399</td>\n",
       "      <td>2023-05-10 16:00:00-04:00</td>\n",
       "    </tr>\n",
       "    <tr>\n",
       "      <th>448</th>\n",
       "      <td>Boston - Roxbury</td>\n",
       "      <td>pm25</td>\n",
       "      <td>6.0</td>\n",
       "      <td>{'utc': '2023-05-10T19:00:00+00:00', 'local': ...</td>\n",
       "      <td>{'latitude': 42.329399, 'longitude': -71.082497}</td>\n",
       "      <td>Governmental Organization</td>\n",
       "      <td>reference grade</td>\n",
       "      <td>-71.082497</td>\n",
       "      <td>42.329399</td>\n",
       "      <td>2023-05-10 15:00:00-04:00</td>\n",
       "    </tr>\n",
       "  </tbody>\n",
       "</table>\n",
       "</div>"
      ],
      "text/plain": [
       "                    location parameter  value  \\\n",
       "locationId                                      \n",
       "448         Boston - Roxbury      pm25    8.0   \n",
       "448         Boston - Roxbury      pm25    8.0   \n",
       "448         Boston - Roxbury      pm25    7.0   \n",
       "448         Boston - Roxbury      pm25    6.0   \n",
       "448         Boston - Roxbury      pm25    6.0   \n",
       "\n",
       "                                                         date  \\\n",
       "locationId                                                      \n",
       "448         {'utc': '2023-05-10T23:00:00+00:00', 'local': ...   \n",
       "448         {'utc': '2023-05-10T22:00:00+00:00', 'local': ...   \n",
       "448         {'utc': '2023-05-10T21:00:00+00:00', 'local': ...   \n",
       "448         {'utc': '2023-05-10T20:00:00+00:00', 'local': ...   \n",
       "448         {'utc': '2023-05-10T19:00:00+00:00', 'local': ...   \n",
       "\n",
       "                                                 coordinates  \\\n",
       "locationId                                                     \n",
       "448         {'latitude': 42.329399, 'longitude': -71.082497}   \n",
       "448         {'latitude': 42.329399, 'longitude': -71.082497}   \n",
       "448         {'latitude': 42.329399, 'longitude': -71.082497}   \n",
       "448         {'latitude': 42.329399, 'longitude': -71.082497}   \n",
       "448         {'latitude': 42.329399, 'longitude': -71.082497}   \n",
       "\n",
       "                               entity       sensorType   sensor_lon  \\\n",
       "locationId                                                            \n",
       "448         Governmental Organization  reference grade   -71.082497   \n",
       "448         Governmental Organization  reference grade   -71.082497   \n",
       "448         Governmental Organization  reference grade   -71.082497   \n",
       "448         Governmental Organization  reference grade   -71.082497   \n",
       "448         Governmental Organization  reference grade   -71.082497   \n",
       "\n",
       "           sensor_lat                local_time  \n",
       "locationId                                       \n",
       "448         42.329399 2023-05-10 19:00:00-04:00  \n",
       "448         42.329399 2023-05-10 18:00:00-04:00  \n",
       "448         42.329399 2023-05-10 17:00:00-04:00  \n",
       "448         42.329399 2023-05-10 16:00:00-04:00  \n",
       "448         42.329399 2023-05-10 15:00:00-04:00  "
      ]
     },
     "execution_count": 259,
     "metadata": {},
     "output_type": "execute_result"
    }
   ],
   "source": [
    "df_ready =pd.concat(\n",
    "    [\n",
    "    df_cleaned, local_time[\"local_time\"]\n",
    "    ], axis=1\n",
    ")\n",
    "df_ready.head()"
   ]
  },
  {
   "cell_type": "code",
   "execution_count": 260,
   "id": "0a57281e-1e7c-4a0a-bc5e-f9bd3c5bcb87",
   "metadata": {},
   "outputs": [],
   "source": [
    "df_filtered = df_ready[[\"location\", \"entity\", \"parameter\", \"value\", \"sensor_lat\", \"sensor_lon\", \"local_time\"]]"
   ]
  },
  {
   "cell_type": "code",
   "execution_count": 261,
   "id": "c0bc3cec-46f8-416d-b511-b796fa9d4d7a",
   "metadata": {},
   "outputs": [
    {
     "data": {
      "text/html": [
       "<div>\n",
       "<style scoped>\n",
       "    .dataframe tbody tr th:only-of-type {\n",
       "        vertical-align: middle;\n",
       "    }\n",
       "\n",
       "    .dataframe tbody tr th {\n",
       "        vertical-align: top;\n",
       "    }\n",
       "\n",
       "    .dataframe thead th {\n",
       "        text-align: right;\n",
       "    }\n",
       "</style>\n",
       "<table border=\"1\" class=\"dataframe\">\n",
       "  <thead>\n",
       "    <tr style=\"text-align: right;\">\n",
       "      <th></th>\n",
       "      <th>location</th>\n",
       "      <th>entity</th>\n",
       "      <th>parameter</th>\n",
       "      <th>value</th>\n",
       "      <th>sensor_lat</th>\n",
       "      <th>sensor_lon</th>\n",
       "      <th>local_time</th>\n",
       "    </tr>\n",
       "    <tr>\n",
       "      <th>locationId</th>\n",
       "      <th></th>\n",
       "      <th></th>\n",
       "      <th></th>\n",
       "      <th></th>\n",
       "      <th></th>\n",
       "      <th></th>\n",
       "      <th></th>\n",
       "    </tr>\n",
       "  </thead>\n",
       "  <tbody>\n",
       "    <tr>\n",
       "      <th>448</th>\n",
       "      <td>Boston - Roxbury</td>\n",
       "      <td>Governmental Organization</td>\n",
       "      <td>pm25</td>\n",
       "      <td>8.0</td>\n",
       "      <td>42.329399</td>\n",
       "      <td>-71.082497</td>\n",
       "      <td>2023-05-10 19:00:00-04:00</td>\n",
       "    </tr>\n",
       "    <tr>\n",
       "      <th>448</th>\n",
       "      <td>Boston - Roxbury</td>\n",
       "      <td>Governmental Organization</td>\n",
       "      <td>pm25</td>\n",
       "      <td>8.0</td>\n",
       "      <td>42.329399</td>\n",
       "      <td>-71.082497</td>\n",
       "      <td>2023-05-10 18:00:00-04:00</td>\n",
       "    </tr>\n",
       "    <tr>\n",
       "      <th>448</th>\n",
       "      <td>Boston - Roxbury</td>\n",
       "      <td>Governmental Organization</td>\n",
       "      <td>pm25</td>\n",
       "      <td>7.0</td>\n",
       "      <td>42.329399</td>\n",
       "      <td>-71.082497</td>\n",
       "      <td>2023-05-10 17:00:00-04:00</td>\n",
       "    </tr>\n",
       "    <tr>\n",
       "      <th>448</th>\n",
       "      <td>Boston - Roxbury</td>\n",
       "      <td>Governmental Organization</td>\n",
       "      <td>pm25</td>\n",
       "      <td>6.0</td>\n",
       "      <td>42.329399</td>\n",
       "      <td>-71.082497</td>\n",
       "      <td>2023-05-10 16:00:00-04:00</td>\n",
       "    </tr>\n",
       "    <tr>\n",
       "      <th>448</th>\n",
       "      <td>Boston - Roxbury</td>\n",
       "      <td>Governmental Organization</td>\n",
       "      <td>pm25</td>\n",
       "      <td>6.0</td>\n",
       "      <td>42.329399</td>\n",
       "      <td>-71.082497</td>\n",
       "      <td>2023-05-10 15:00:00-04:00</td>\n",
       "    </tr>\n",
       "  </tbody>\n",
       "</table>\n",
       "</div>"
      ],
      "text/plain": [
       "                    location                     entity parameter  value  \\\n",
       "locationId                                                                 \n",
       "448         Boston - Roxbury  Governmental Organization      pm25    8.0   \n",
       "448         Boston - Roxbury  Governmental Organization      pm25    8.0   \n",
       "448         Boston - Roxbury  Governmental Organization      pm25    7.0   \n",
       "448         Boston - Roxbury  Governmental Organization      pm25    6.0   \n",
       "448         Boston - Roxbury  Governmental Organization      pm25    6.0   \n",
       "\n",
       "           sensor_lat   sensor_lon                local_time  \n",
       "locationId                                                    \n",
       "448         42.329399   -71.082497 2023-05-10 19:00:00-04:00  \n",
       "448         42.329399   -71.082497 2023-05-10 18:00:00-04:00  \n",
       "448         42.329399   -71.082497 2023-05-10 17:00:00-04:00  \n",
       "448         42.329399   -71.082497 2023-05-10 16:00:00-04:00  \n",
       "448         42.329399   -71.082497 2023-05-10 15:00:00-04:00  "
      ]
     },
     "execution_count": 261,
     "metadata": {},
     "output_type": "execute_result"
    }
   ],
   "source": [
    "df_filtered.head()"
   ]
  },
  {
   "cell_type": "code",
   "execution_count": 262,
   "id": "9ed5216f-8dcf-4bca-99fe-4afb6e586aae",
   "metadata": {},
   "outputs": [],
   "source": [
    "specific_locations = [\"Governmental Organization\", \"Community Organization\"] "
   ]
  },
  {
   "cell_type": "code",
   "execution_count": 263,
   "id": "d29947a7-c5b6-49d6-861b-b5c47256334b",
   "metadata": {},
   "outputs": [
    {
     "data": {
      "text/html": [
       "<div>\n",
       "<style scoped>\n",
       "    .dataframe tbody tr th:only-of-type {\n",
       "        vertical-align: middle;\n",
       "    }\n",
       "\n",
       "    .dataframe tbody tr th {\n",
       "        vertical-align: top;\n",
       "    }\n",
       "\n",
       "    .dataframe thead th {\n",
       "        text-align: right;\n",
       "    }\n",
       "</style>\n",
       "<table border=\"1\" class=\"dataframe\">\n",
       "  <thead>\n",
       "    <tr style=\"text-align: right;\">\n",
       "      <th></th>\n",
       "      <th>location</th>\n",
       "      <th>entity</th>\n",
       "      <th>parameter</th>\n",
       "      <th>value</th>\n",
       "      <th>sensor_lat</th>\n",
       "      <th>sensor_lon</th>\n",
       "      <th>local_time</th>\n",
       "    </tr>\n",
       "    <tr>\n",
       "      <th>locationId</th>\n",
       "      <th></th>\n",
       "      <th></th>\n",
       "      <th></th>\n",
       "      <th></th>\n",
       "      <th></th>\n",
       "      <th></th>\n",
       "      <th></th>\n",
       "    </tr>\n",
       "  </thead>\n",
       "  <tbody>\n",
       "    <tr>\n",
       "      <th>448</th>\n",
       "      <td>Boston - Roxbury</td>\n",
       "      <td>Governmental Organization</td>\n",
       "      <td>pm25</td>\n",
       "      <td>8.0</td>\n",
       "      <td>42.329399</td>\n",
       "      <td>-71.082497</td>\n",
       "      <td>2023-05-10 19:00:00-04:00</td>\n",
       "    </tr>\n",
       "    <tr>\n",
       "      <th>448</th>\n",
       "      <td>Boston - Roxbury</td>\n",
       "      <td>Governmental Organization</td>\n",
       "      <td>pm25</td>\n",
       "      <td>8.0</td>\n",
       "      <td>42.329399</td>\n",
       "      <td>-71.082497</td>\n",
       "      <td>2023-05-10 18:00:00-04:00</td>\n",
       "    </tr>\n",
       "    <tr>\n",
       "      <th>448</th>\n",
       "      <td>Boston - Roxbury</td>\n",
       "      <td>Governmental Organization</td>\n",
       "      <td>pm25</td>\n",
       "      <td>7.0</td>\n",
       "      <td>42.329399</td>\n",
       "      <td>-71.082497</td>\n",
       "      <td>2023-05-10 17:00:00-04:00</td>\n",
       "    </tr>\n",
       "    <tr>\n",
       "      <th>448</th>\n",
       "      <td>Boston - Roxbury</td>\n",
       "      <td>Governmental Organization</td>\n",
       "      <td>pm25</td>\n",
       "      <td>6.0</td>\n",
       "      <td>42.329399</td>\n",
       "      <td>-71.082497</td>\n",
       "      <td>2023-05-10 16:00:00-04:00</td>\n",
       "    </tr>\n",
       "    <tr>\n",
       "      <th>448</th>\n",
       "      <td>Boston - Roxbury</td>\n",
       "      <td>Governmental Organization</td>\n",
       "      <td>pm25</td>\n",
       "      <td>6.0</td>\n",
       "      <td>42.329399</td>\n",
       "      <td>-71.082497</td>\n",
       "      <td>2023-05-10 15:00:00-04:00</td>\n",
       "    </tr>\n",
       "    <tr>\n",
       "      <th>...</th>\n",
       "      <td>...</td>\n",
       "      <td>...</td>\n",
       "      <td>...</td>\n",
       "      <td>...</td>\n",
       "      <td>...</td>\n",
       "      <td>...</td>\n",
       "      <td>...</td>\n",
       "    </tr>\n",
       "    <tr>\n",
       "      <th>224400</th>\n",
       "      <td>DEP 2B43</td>\n",
       "      <td>Community Organization</td>\n",
       "      <td>pm25</td>\n",
       "      <td>11.6</td>\n",
       "      <td>42.3973</td>\n",
       "      <td>-71.03321</td>\n",
       "      <td>2023-05-13 02:30:43-04:00</td>\n",
       "    </tr>\n",
       "    <tr>\n",
       "      <th>224400</th>\n",
       "      <td>DEP 2B43</td>\n",
       "      <td>Community Organization</td>\n",
       "      <td>pm25</td>\n",
       "      <td>11.8</td>\n",
       "      <td>42.3973</td>\n",
       "      <td>-71.03321</td>\n",
       "      <td>2023-05-13 02:28:40-04:00</td>\n",
       "    </tr>\n",
       "    <tr>\n",
       "      <th>224400</th>\n",
       "      <td>DEP 2B43</td>\n",
       "      <td>Community Organization</td>\n",
       "      <td>pm25</td>\n",
       "      <td>10.7</td>\n",
       "      <td>42.3973</td>\n",
       "      <td>-71.03321</td>\n",
       "      <td>2023-05-13 02:26:41-04:00</td>\n",
       "    </tr>\n",
       "    <tr>\n",
       "      <th>224400</th>\n",
       "      <td>DEP 2B43</td>\n",
       "      <td>Community Organization</td>\n",
       "      <td>pm25</td>\n",
       "      <td>10.7</td>\n",
       "      <td>42.3973</td>\n",
       "      <td>-71.03321</td>\n",
       "      <td>2023-05-13 02:24:43-04:00</td>\n",
       "    </tr>\n",
       "    <tr>\n",
       "      <th>224400</th>\n",
       "      <td>DEP 2B43</td>\n",
       "      <td>Community Organization</td>\n",
       "      <td>pm25</td>\n",
       "      <td>11.3</td>\n",
       "      <td>42.3973</td>\n",
       "      <td>-71.03321</td>\n",
       "      <td>2023-05-13 02:22:41-04:00</td>\n",
       "    </tr>\n",
       "  </tbody>\n",
       "</table>\n",
       "<p>120000 rows × 7 columns</p>\n",
       "</div>"
      ],
      "text/plain": [
       "                    location                     entity parameter  value  \\\n",
       "locationId                                                                 \n",
       "448         Boston - Roxbury  Governmental Organization      pm25    8.0   \n",
       "448         Boston - Roxbury  Governmental Organization      pm25    8.0   \n",
       "448         Boston - Roxbury  Governmental Organization      pm25    7.0   \n",
       "448         Boston - Roxbury  Governmental Organization      pm25    6.0   \n",
       "448         Boston - Roxbury  Governmental Organization      pm25    6.0   \n",
       "...                      ...                        ...       ...    ...   \n",
       "224400              DEP 2B43     Community Organization      pm25   11.6   \n",
       "224400              DEP 2B43     Community Organization      pm25   11.8   \n",
       "224400              DEP 2B43     Community Organization      pm25   10.7   \n",
       "224400              DEP 2B43     Community Organization      pm25   10.7   \n",
       "224400              DEP 2B43     Community Organization      pm25   11.3   \n",
       "\n",
       "           sensor_lat   sensor_lon                local_time  \n",
       "locationId                                                    \n",
       "448         42.329399   -71.082497 2023-05-10 19:00:00-04:00  \n",
       "448         42.329399   -71.082497 2023-05-10 18:00:00-04:00  \n",
       "448         42.329399   -71.082497 2023-05-10 17:00:00-04:00  \n",
       "448         42.329399   -71.082497 2023-05-10 16:00:00-04:00  \n",
       "448         42.329399   -71.082497 2023-05-10 15:00:00-04:00  \n",
       "...               ...          ...                       ...  \n",
       "224400        42.3973    -71.03321 2023-05-13 02:30:43-04:00  \n",
       "224400        42.3973    -71.03321 2023-05-13 02:28:40-04:00  \n",
       "224400        42.3973    -71.03321 2023-05-13 02:26:41-04:00  \n",
       "224400        42.3973    -71.03321 2023-05-13 02:24:43-04:00  \n",
       "224400        42.3973    -71.03321 2023-05-13 02:22:41-04:00  \n",
       "\n",
       "[120000 rows x 7 columns]"
      ]
     },
     "execution_count": 263,
     "metadata": {},
     "output_type": "execute_result"
    }
   ],
   "source": [
    "df_filtered[df[\"entity\"].isin(specific_locations)]"
   ]
  },
  {
   "cell_type": "code",
   "execution_count": 264,
   "id": "d484c5cf-df86-4a9f-a6b3-76adde2b00b7",
   "metadata": {},
   "outputs": [],
   "source": [
    "df_filtered.to_csv(\"/home/jovyan/homework/hw1/boston_7_5km_aq.csv\")"
   ]
  },
  {
   "cell_type": "markdown",
   "id": "c17e3b6a-8fad-44e1-b3bb-d8aa3cc17c54",
   "metadata": {},
   "source": [
    "---"
   ]
  },
  {
   "cell_type": "code",
   "execution_count": 265,
   "id": "70919074-430c-405e-92ae-82c65e0270f6",
   "metadata": {},
   "outputs": [],
   "source": [
    "da = pd.read_csv(\"/home/jovyan/homework/hw1/boston_7_5km_aq.csv\")"
   ]
  },
  {
   "cell_type": "code",
   "execution_count": 266,
   "id": "9f12ca2b-3162-4098-907d-6a99578f71f3",
   "metadata": {},
   "outputs": [
    {
     "data": {
      "text/html": [
       "<div>\n",
       "<style scoped>\n",
       "    .dataframe tbody tr th:only-of-type {\n",
       "        vertical-align: middle;\n",
       "    }\n",
       "\n",
       "    .dataframe tbody tr th {\n",
       "        vertical-align: top;\n",
       "    }\n",
       "\n",
       "    .dataframe thead th {\n",
       "        text-align: right;\n",
       "    }\n",
       "</style>\n",
       "<table border=\"1\" class=\"dataframe\">\n",
       "  <thead>\n",
       "    <tr style=\"text-align: right;\">\n",
       "      <th></th>\n",
       "      <th>locationId</th>\n",
       "      <th>location</th>\n",
       "      <th>entity</th>\n",
       "      <th>parameter</th>\n",
       "      <th>value</th>\n",
       "      <th>sensor_lat</th>\n",
       "      <th>sensor_lon</th>\n",
       "      <th>local_time</th>\n",
       "    </tr>\n",
       "  </thead>\n",
       "  <tbody>\n",
       "    <tr>\n",
       "      <th>0</th>\n",
       "      <td>448</td>\n",
       "      <td>Boston - Roxbury</td>\n",
       "      <td>Governmental Organization</td>\n",
       "      <td>pm25</td>\n",
       "      <td>8.0</td>\n",
       "      <td>42.329399</td>\n",
       "      <td>-71.082497</td>\n",
       "      <td>2023-05-10 19:00:00-04:00</td>\n",
       "    </tr>\n",
       "    <tr>\n",
       "      <th>1</th>\n",
       "      <td>448</td>\n",
       "      <td>Boston - Roxbury</td>\n",
       "      <td>Governmental Organization</td>\n",
       "      <td>pm25</td>\n",
       "      <td>8.0</td>\n",
       "      <td>42.329399</td>\n",
       "      <td>-71.082497</td>\n",
       "      <td>2023-05-10 18:00:00-04:00</td>\n",
       "    </tr>\n",
       "    <tr>\n",
       "      <th>2</th>\n",
       "      <td>448</td>\n",
       "      <td>Boston - Roxbury</td>\n",
       "      <td>Governmental Organization</td>\n",
       "      <td>pm25</td>\n",
       "      <td>7.0</td>\n",
       "      <td>42.329399</td>\n",
       "      <td>-71.082497</td>\n",
       "      <td>2023-05-10 17:00:00-04:00</td>\n",
       "    </tr>\n",
       "    <tr>\n",
       "      <th>3</th>\n",
       "      <td>448</td>\n",
       "      <td>Boston - Roxbury</td>\n",
       "      <td>Governmental Organization</td>\n",
       "      <td>pm25</td>\n",
       "      <td>6.0</td>\n",
       "      <td>42.329399</td>\n",
       "      <td>-71.082497</td>\n",
       "      <td>2023-05-10 16:00:00-04:00</td>\n",
       "    </tr>\n",
       "    <tr>\n",
       "      <th>4</th>\n",
       "      <td>448</td>\n",
       "      <td>Boston - Roxbury</td>\n",
       "      <td>Governmental Organization</td>\n",
       "      <td>pm25</td>\n",
       "      <td>6.0</td>\n",
       "      <td>42.329399</td>\n",
       "      <td>-71.082497</td>\n",
       "      <td>2023-05-10 15:00:00-04:00</td>\n",
       "    </tr>\n",
       "  </tbody>\n",
       "</table>\n",
       "</div>"
      ],
      "text/plain": [
       "   locationId          location                     entity parameter  value  \\\n",
       "0         448  Boston - Roxbury  Governmental Organization      pm25    8.0   \n",
       "1         448  Boston - Roxbury  Governmental Organization      pm25    8.0   \n",
       "2         448  Boston - Roxbury  Governmental Organization      pm25    7.0   \n",
       "3         448  Boston - Roxbury  Governmental Organization      pm25    6.0   \n",
       "4         448  Boston - Roxbury  Governmental Organization      pm25    6.0   \n",
       "\n",
       "   sensor_lat  sensor_lon                 local_time  \n",
       "0   42.329399  -71.082497  2023-05-10 19:00:00-04:00  \n",
       "1   42.329399  -71.082497  2023-05-10 18:00:00-04:00  \n",
       "2   42.329399  -71.082497  2023-05-10 17:00:00-04:00  \n",
       "3   42.329399  -71.082497  2023-05-10 16:00:00-04:00  \n",
       "4   42.329399  -71.082497  2023-05-10 15:00:00-04:00  "
      ]
     },
     "execution_count": 266,
     "metadata": {},
     "output_type": "execute_result"
    }
   ],
   "source": [
    "da.head()"
   ]
  },
  {
   "cell_type": "markdown",
   "id": "487e0b46-c97d-4a2c-b5be-a855806472bb",
   "metadata": {},
   "source": [
    "# (20%) Perfom basic data analysis in Python using OpenAQ weather data."
   ]
  },
  {
   "cell_type": "markdown",
   "id": "6e04cb9d-6de9-417d-97b4-6dd304b0d280",
   "metadata": {},
   "source": [
    "##### 1.  What is the mean and median PM2.5 reading over all sensors?"
   ]
  },
  {
   "cell_type": "code",
   "execution_count": 267,
   "id": "698229cd-fdc6-4628-ad3d-f174c84eab02",
   "metadata": {},
   "outputs": [
    {
     "data": {
      "text/plain": [
       "count    120000.000000\n",
       "mean         11.207923\n",
       "std          11.561003\n",
       "min           0.000000\n",
       "25%           2.900000\n",
       "50%           6.500000\n",
       "75%          17.000000\n",
       "max         408.700000\n",
       "Name: value, dtype: float64"
      ]
     },
     "execution_count": 267,
     "metadata": {},
     "output_type": "execute_result"
    }
   ],
   "source": [
    "da[\"value\"].describe()"
   ]
  },
  {
   "cell_type": "code",
   "execution_count": 268,
   "id": "599ad4d8-5235-4e19-9fc1-bb8da079ca0f",
   "metadata": {},
   "outputs": [
    {
     "name": "stdout",
     "output_type": "stream",
     "text": [
      "Mean = 11.207922500000002     Median = 6.5\n"
     ]
    }
   ],
   "source": [
    "da_mean = da[\"value\"].mean()\n",
    "da_median = da[\"value\"].median()\n",
    "print(\"Mean =\", da_mean, \"    Median =\", da_median)"
   ]
  },
  {
   "cell_type": "markdown",
   "id": "a71574fb-afbd-4375-87fb-f045610b3cf8",
   "metadata": {},
   "source": [
    "##### 2.  What is the standard deviation?"
   ]
  },
  {
   "cell_type": "code",
   "execution_count": 269,
   "id": "7fd1eacb-a2db-4af0-a211-5cbf81bba755",
   "metadata": {},
   "outputs": [
    {
     "name": "stdout",
     "output_type": "stream",
     "text": [
      "Standard Deviation = 11.56100332110678\n"
     ]
    }
   ],
   "source": [
    "da_std = da[\"value\"].std()\n",
    "print(\"Standard Deviation =\", da_std)"
   ]
  },
  {
   "cell_type": "markdown",
   "id": "8c92caae-9271-494e-b3df-f2d9abbf6f78",
   "metadata": {},
   "source": [
    "##### 3. Which location_id recorded the highest PM2.5? What was the reading?"
   ]
  },
  {
   "cell_type": "code",
   "execution_count": 270,
   "id": "520d0911-26d5-4e5e-81a0-a8e7596f7f22",
   "metadata": {},
   "outputs": [],
   "source": [
    "da_max = da.sort_values(by=\"value\", ascending=False).head(1)"
   ]
  },
  {
   "cell_type": "code",
   "execution_count": 271,
   "id": "6b30d0b3-499e-4916-86a8-82e82328f7c1",
   "metadata": {},
   "outputs": [
    {
     "data": {
      "text/html": [
       "<div>\n",
       "<style scoped>\n",
       "    .dataframe tbody tr th:only-of-type {\n",
       "        vertical-align: middle;\n",
       "    }\n",
       "\n",
       "    .dataframe tbody tr th {\n",
       "        vertical-align: top;\n",
       "    }\n",
       "\n",
       "    .dataframe thead th {\n",
       "        text-align: right;\n",
       "    }\n",
       "</style>\n",
       "<table border=\"1\" class=\"dataframe\">\n",
       "  <thead>\n",
       "    <tr style=\"text-align: right;\">\n",
       "      <th></th>\n",
       "      <th>locationId</th>\n",
       "      <th>location</th>\n",
       "      <th>entity</th>\n",
       "      <th>parameter</th>\n",
       "      <th>value</th>\n",
       "      <th>sensor_lat</th>\n",
       "      <th>sensor_lon</th>\n",
       "      <th>local_time</th>\n",
       "    </tr>\n",
       "  </thead>\n",
       "  <tbody>\n",
       "    <tr>\n",
       "      <th>65262</th>\n",
       "      <td>224410</td>\n",
       "      <td>DEP FEAD</td>\n",
       "      <td>Community Organization</td>\n",
       "      <td>pm25</td>\n",
       "      <td>408.7</td>\n",
       "      <td>42.40722</td>\n",
       "      <td>-71.02778</td>\n",
       "      <td>2023-07-04 22:24:52-04:00</td>\n",
       "    </tr>\n",
       "  </tbody>\n",
       "</table>\n",
       "</div>"
      ],
      "text/plain": [
       "       locationId  location                  entity parameter  value  \\\n",
       "65262      224410  DEP FEAD  Community Organization      pm25  408.7   \n",
       "\n",
       "       sensor_lat  sensor_lon                 local_time  \n",
       "65262    42.40722   -71.02778  2023-07-04 22:24:52-04:00  "
      ]
     },
     "execution_count": 271,
     "metadata": {},
     "output_type": "execute_result"
    }
   ],
   "source": [
    "da_max"
   ]
  },
  {
   "cell_type": "markdown",
   "id": "164055f2-ac85-495a-aebf-d8adc1737d4b",
   "metadata": {},
   "source": [
    "##### 4. What is the ratio of Community Organization to Governmental Organization entity type?"
   ]
  },
  {
   "cell_type": "code",
   "execution_count": 272,
   "id": "2b3b6ae7-6c3a-46eb-9ea8-d23e81be8de8",
   "metadata": {},
   "outputs": [
    {
     "data": {
      "text/html": [
       "<div>\n",
       "<style scoped>\n",
       "    .dataframe tbody tr th:only-of-type {\n",
       "        vertical-align: middle;\n",
       "    }\n",
       "\n",
       "    .dataframe tbody tr th {\n",
       "        vertical-align: top;\n",
       "    }\n",
       "\n",
       "    .dataframe thead th {\n",
       "        text-align: right;\n",
       "    }\n",
       "</style>\n",
       "<table border=\"1\" class=\"dataframe\">\n",
       "  <thead>\n",
       "    <tr style=\"text-align: right;\">\n",
       "      <th></th>\n",
       "      <th>locationId</th>\n",
       "      <th>location</th>\n",
       "      <th>parameter</th>\n",
       "      <th>value</th>\n",
       "      <th>sensor_lat</th>\n",
       "      <th>sensor_lon</th>\n",
       "      <th>local_time</th>\n",
       "    </tr>\n",
       "    <tr>\n",
       "      <th>entity</th>\n",
       "      <th></th>\n",
       "      <th></th>\n",
       "      <th></th>\n",
       "      <th></th>\n",
       "      <th></th>\n",
       "      <th></th>\n",
       "      <th></th>\n",
       "    </tr>\n",
       "  </thead>\n",
       "  <tbody>\n",
       "    <tr>\n",
       "      <th>Community Organization</th>\n",
       "      <td>113434</td>\n",
       "      <td>113434</td>\n",
       "      <td>113434</td>\n",
       "      <td>113434</td>\n",
       "      <td>113434</td>\n",
       "      <td>113434</td>\n",
       "      <td>113434</td>\n",
       "    </tr>\n",
       "    <tr>\n",
       "      <th>Governmental Organization</th>\n",
       "      <td>6566</td>\n",
       "      <td>6566</td>\n",
       "      <td>6566</td>\n",
       "      <td>6566</td>\n",
       "      <td>6566</td>\n",
       "      <td>6566</td>\n",
       "      <td>6566</td>\n",
       "    </tr>\n",
       "  </tbody>\n",
       "</table>\n",
       "</div>"
      ],
      "text/plain": [
       "                           locationId  location  parameter   value  \\\n",
       "entity                                                               \n",
       "Community Organization         113434    113434     113434  113434   \n",
       "Governmental Organization        6566      6566       6566    6566   \n",
       "\n",
       "                           sensor_lat  sensor_lon  local_time  \n",
       "entity                                                         \n",
       "Community Organization         113434      113434      113434  \n",
       "Governmental Organization        6566        6566        6566  "
      ]
     },
     "execution_count": 272,
     "metadata": {},
     "output_type": "execute_result"
    }
   ],
   "source": [
    "da.groupby('entity').count()"
   ]
  },
  {
   "cell_type": "code",
   "execution_count": 274,
   "id": "6a2e0b2b-565d-4f70-a6ac-b463e70edd59",
   "metadata": {},
   "outputs": [
    {
     "data": {
      "text/plain": [
       "120000"
      ]
     },
     "execution_count": 274,
     "metadata": {},
     "output_type": "execute_result"
    }
   ],
   "source": [
    "113434+6566"
   ]
  },
  {
   "cell_type": "code",
   "execution_count": 275,
   "id": "6da6b4d5-46f0-489f-b375-eac64ed99fb8",
   "metadata": {},
   "outputs": [
    {
     "data": {
      "text/plain": [
       "94.52833333333334"
      ]
     },
     "execution_count": 275,
     "metadata": {},
     "output_type": "execute_result"
    }
   ],
   "source": [
    "(113434/120000)*100"
   ]
  },
  {
   "cell_type": "code",
   "execution_count": 276,
   "id": "f881dba2-65a4-4175-a141-7a8ef034ba63",
   "metadata": {},
   "outputs": [
    {
     "data": {
      "text/plain": [
       "5.471666666666667"
      ]
     },
     "execution_count": 276,
     "metadata": {},
     "output_type": "execute_result"
    }
   ],
   "source": [
    "(6566/120000)*100"
   ]
  },
  {
   "cell_type": "markdown",
   "id": "cc4b3db0-2b7f-40c6-a4b6-39246563bcf0",
   "metadata": {},
   "source": [
    "##### 5. How many unique sensor stations are in the data (use sensorId)?"
   ]
  },
  {
   "cell_type": "code",
   "execution_count": 277,
   "id": "c84b920f-e686-4a39-87c1-f345dd867242",
   "metadata": {},
   "outputs": [
    {
     "data": {
      "text/plain": [
       "8"
      ]
     },
     "execution_count": 277,
     "metadata": {},
     "output_type": "execute_result"
    }
   ],
   "source": [
    "da[\"locationId\"].nunique()"
   ]
  },
  {
   "cell_type": "markdown",
   "id": "f3cb74f8-4afb-4cd9-afc9-ada8991e9558",
   "metadata": {},
   "source": [
    "##### 6. What is the station density per km?"
   ]
  },
  {
   "cell_type": "code",
   "execution_count": 278,
   "id": "31abb55c-4877-41bb-92ce-51b16a34d77c",
   "metadata": {},
   "outputs": [
    {
     "data": {
      "text/plain": [
       "1.0666666666666667"
      ]
     },
     "execution_count": 278,
     "metadata": {},
     "output_type": "execute_result"
    }
   ],
   "source": [
    "da[\"locationId\"].nunique()/7.5"
   ]
  },
  {
   "cell_type": "markdown",
   "id": "8eafafa3-5073-4849-a2be-23c08b13d157",
   "metadata": {},
   "source": [
    "##### 7. What is the daily mean, median, min, max, 75% and standard deviation separately for all Community Organization and Government Organization sensors in the data (that is group each separately and report the statistics being asked)?"
   ]
  },
  {
   "cell_type": "code",
   "execution_count": 279,
   "id": "097aa089-8e80-42c7-be0d-61fa893311b3",
   "metadata": {},
   "outputs": [],
   "source": [
    "da_stat = da.groupby(\"entity\").describe()"
   ]
  },
  {
   "cell_type": "code",
   "execution_count": 280,
   "id": "7d3d01e7-edff-46b3-bb78-230e2d49e339",
   "metadata": {},
   "outputs": [
    {
     "data": {
      "text/html": [
       "<div>\n",
       "<style scoped>\n",
       "    .dataframe tbody tr th:only-of-type {\n",
       "        vertical-align: middle;\n",
       "    }\n",
       "\n",
       "    .dataframe tbody tr th {\n",
       "        vertical-align: top;\n",
       "    }\n",
       "\n",
       "    .dataframe thead th {\n",
       "        text-align: right;\n",
       "    }\n",
       "</style>\n",
       "<table border=\"1\" class=\"dataframe\">\n",
       "  <thead>\n",
       "    <tr style=\"text-align: right;\">\n",
       "      <th></th>\n",
       "      <th>count</th>\n",
       "      <th>mean</th>\n",
       "      <th>std</th>\n",
       "      <th>min</th>\n",
       "      <th>25%</th>\n",
       "      <th>50%</th>\n",
       "      <th>75%</th>\n",
       "      <th>max</th>\n",
       "    </tr>\n",
       "    <tr>\n",
       "      <th>entity</th>\n",
       "      <th></th>\n",
       "      <th></th>\n",
       "      <th></th>\n",
       "      <th></th>\n",
       "      <th></th>\n",
       "      <th></th>\n",
       "      <th></th>\n",
       "      <th></th>\n",
       "    </tr>\n",
       "  </thead>\n",
       "  <tbody>\n",
       "    <tr>\n",
       "      <th>Community Organization</th>\n",
       "      <td>113434.0</td>\n",
       "      <td>11.308123</td>\n",
       "      <td>11.734314</td>\n",
       "      <td>0.0</td>\n",
       "      <td>2.8</td>\n",
       "      <td>6.4</td>\n",
       "      <td>17.6</td>\n",
       "      <td>408.7</td>\n",
       "    </tr>\n",
       "    <tr>\n",
       "      <th>Governmental Organization</th>\n",
       "      <td>6566.0</td>\n",
       "      <td>9.476866</td>\n",
       "      <td>7.794083</td>\n",
       "      <td>1.0</td>\n",
       "      <td>5.0</td>\n",
       "      <td>7.0</td>\n",
       "      <td>12.0</td>\n",
       "      <td>66.0</td>\n",
       "    </tr>\n",
       "  </tbody>\n",
       "</table>\n",
       "</div>"
      ],
      "text/plain": [
       "                              count       mean        std  min  25%  50%  \\\n",
       "entity                                                                     \n",
       "Community Organization     113434.0  11.308123  11.734314  0.0  2.8  6.4   \n",
       "Governmental Organization    6566.0   9.476866   7.794083  1.0  5.0  7.0   \n",
       "\n",
       "                            75%    max  \n",
       "entity                                  \n",
       "Community Organization     17.6  408.7  \n",
       "Governmental Organization  12.0   66.0  "
      ]
     },
     "execution_count": 280,
     "metadata": {},
     "output_type": "execute_result"
    }
   ],
   "source": [
    "da_stat[\"value\"]"
   ]
  },
  {
   "cell_type": "markdown",
   "id": "67cc48ca-0245-4ea0-84a8-4b5f398220d9",
   "metadata": {},
   "source": [
    "##### 8. What is your opinion of the differences in the statistics? Comment specifically about the mean and 75%."
   ]
  },
  {
   "cell_type": "markdown",
   "id": "442edb31-7e84-484e-9fa3-00120a5bd38b",
   "metadata": {},
   "source": [
    "#### First of all, we have a significant difference in the number of sensor readings obtained by Community Organizations(113434 or 94.52% of readings) compared to only (6566 or 5.47%) Governmental Organization readings.\n",
    "#### The mean, min, 25th and 50th percentile means are very similar for both Community and Government stations.\n",
    "#### However, the 75th percentile mean and the difference between the max reading obtained by Community Sensors is much higher than Governmental Sensors.  I will look at the data for around June 6th, 2023 to determine if the sensors detected any effects from the wildfire we discussed when looking at the Detroit Sensors.\n",
    "####  Additionally it is important to point out that the station density of Detroit was nearly double that of Boston.  The station density of Detroit was 2 stations per km and a total of 15 stations within a 7.5km area.  The station density of Boston was 1.06 per km and 8 stations in a 7.5km area.  "
   ]
  },
  {
   "cell_type": "markdown",
   "id": "95ba0804-d5c3-40f9-b422-56ab3881a4d2",
   "metadata": {},
   "source": [
    "---"
   ]
  },
  {
   "cell_type": "code",
   "execution_count": null,
   "id": "c21c8a7f-2e13-4aa4-a8a6-6f5f34054ad9",
   "metadata": {},
   "outputs": [],
   "source": [
    "fol_install = conda install -c conda-forge folium"
   ]
  },
  {
   "cell_type": "code",
   "execution_count": 283,
   "id": "9a32242b-5d83-455b-92c4-ffa105b625df",
   "metadata": {},
   "outputs": [],
   "source": [
    "import folium"
   ]
  },
  {
   "cell_type": "code",
   "execution_count": 285,
   "id": "88f1fead-94d6-418b-a5e5-fdfdbabb7f5c",
   "metadata": {},
   "outputs": [],
   "source": [
    "community_org = [\"Community Organization\"]"
   ]
  },
  {
   "cell_type": "code",
   "execution_count": 286,
   "id": "da56f502-ad99-45e9-b31b-91bda929c267",
   "metadata": {},
   "outputs": [],
   "source": [
    "gov_org = [\"Governmental Organization\"]"
   ]
  },
  {
   "cell_type": "code",
   "execution_count": 287,
   "id": "45a6ceb8-fced-43bd-9542-b57682f28d62",
   "metadata": {},
   "outputs": [],
   "source": [
    "da_comm = da[da[\"entity\"].isin(community_org)]"
   ]
  },
  {
   "cell_type": "code",
   "execution_count": 288,
   "id": "42bc4b40-f61a-4509-b675-ccd87fdc907d",
   "metadata": {},
   "outputs": [],
   "source": [
    "da_gov = da[da[\"entity\"].isin(gov_org)]"
   ]
  },
  {
   "cell_type": "code",
   "execution_count": 289,
   "id": "1ba8e4ca-a7e2-4623-9c5f-ab8680941be7",
   "metadata": {},
   "outputs": [
    {
     "data": {
      "text/plain": [
       "<folium.map.LayerControl at 0x7fcdbb1bc5b0>"
      ]
     },
     "execution_count": 289,
     "metadata": {},
     "output_type": "execute_result"
    }
   ],
   "source": [
    "m = folium.Map((42.3643, -71.005203), zoom_start=7)\n",
    "\n",
    "for(index,row) in da_comm.iterrows():\n",
    "    group_1 = folium.FeatureGroup(\"first group\").add_to(m)\n",
    "    folium.Marker(location=(row.loc[\"sensor_lat\"], row.loc[\"sensor_lon\"]),\n",
    "                  icon=folium.Icon(color=\"green\",icon=\"fa-info\",prefix=\"fa\"),\n",
    "                  tooltip=(row.loc[\"locationId\"])).add_to(group_1)\n",
    "        \n",
    "\n",
    "for(index,row) in da_gov.iterrows():\n",
    "    group_2 = folium.FeatureGroup(\"second group\").add_to(m)\n",
    "    folium.Marker(location=(row.loc[\"sensor_lat\"], row.loc[\"sensor_lon\"]),\n",
    "                  icon=folium.Icon(color=\"red\",icon=\"fa-asterisk\",prefix=\"fa\"),\n",
    "                 tooltip=(row.loc[\"locationId\"])).add_to(group_2)\n",
    "\n",
    "group_3 = folium.FeatureGroup(\"third group\").add_to(m)\n",
    "folium.Marker((42.3643, -71.005203),\n",
    "              icon=folium.Icon(color=\"blue\",icon=\"fa-city\",prefix=\"fa\"),\n",
    "              tooltip=(\"Boston\")).add_to(group_3)\n",
    "\n",
    "folium.LayerControl().add_to(m)"
   ]
  },
  {
   "cell_type": "code",
   "execution_count": null,
   "id": "186f6dbf-8fe6-46e9-b577-0dacfb60b070",
   "metadata": {},
   "outputs": [],
   "source": [
    "m"
   ]
  },
  {
   "cell_type": "markdown",
   "id": "4619ca13-9f46-47a6-bf4e-4809dfcecc03",
   "metadata": {},
   "source": [
    "---"
   ]
  },
  {
   "cell_type": "markdown",
   "id": "898d868a-4ed2-49c2-838d-512e76e86af0",
   "metadata": {},
   "source": [
    "Plot the hourly averages for the day using line plots"
   ]
  },
  {
   "cell_type": "code",
   "execution_count": null,
   "id": "efb4649b-6660-46fa-8acc-6fd6da714401",
   "metadata": {},
   "outputs": [],
   "source": [
    "da['local_time'] = pd.to_datetime(da['local_time'])"
   ]
  },
  {
   "cell_type": "code",
   "execution_count": 305,
   "id": "c883bee9-91d6-4b0b-a8bb-aa387ff4a9fa",
   "metadata": {},
   "outputs": [],
   "source": [
    "da['Time'] = da['local_time'].dt.strftime(\"%m-%d\")"
   ]
  },
  {
   "cell_type": "code",
   "execution_count": 306,
   "id": "87e2ff0f-b575-4b39-9aac-942492907a10",
   "metadata": {},
   "outputs": [
    {
     "data": {
      "text/html": [
       "<div>\n",
       "<style scoped>\n",
       "    .dataframe tbody tr th:only-of-type {\n",
       "        vertical-align: middle;\n",
       "    }\n",
       "\n",
       "    .dataframe tbody tr th {\n",
       "        vertical-align: top;\n",
       "    }\n",
       "\n",
       "    .dataframe thead th {\n",
       "        text-align: right;\n",
       "    }\n",
       "</style>\n",
       "<table border=\"1\" class=\"dataframe\">\n",
       "  <thead>\n",
       "    <tr style=\"text-align: right;\">\n",
       "      <th></th>\n",
       "      <th>locationId</th>\n",
       "      <th>location</th>\n",
       "      <th>entity</th>\n",
       "      <th>parameter</th>\n",
       "      <th>value</th>\n",
       "      <th>sensor_lat</th>\n",
       "      <th>sensor_lon</th>\n",
       "      <th>local_time</th>\n",
       "      <th>Time</th>\n",
       "    </tr>\n",
       "  </thead>\n",
       "  <tbody>\n",
       "    <tr>\n",
       "      <th>0</th>\n",
       "      <td>448</td>\n",
       "      <td>Boston - Roxbury</td>\n",
       "      <td>Governmental Organization</td>\n",
       "      <td>pm25</td>\n",
       "      <td>8.0</td>\n",
       "      <td>42.329399</td>\n",
       "      <td>-71.082497</td>\n",
       "      <td>2023-05-10 19:00:00-04:00</td>\n",
       "      <td>05-10</td>\n",
       "    </tr>\n",
       "    <tr>\n",
       "      <th>1</th>\n",
       "      <td>448</td>\n",
       "      <td>Boston - Roxbury</td>\n",
       "      <td>Governmental Organization</td>\n",
       "      <td>pm25</td>\n",
       "      <td>8.0</td>\n",
       "      <td>42.329399</td>\n",
       "      <td>-71.082497</td>\n",
       "      <td>2023-05-10 18:00:00-04:00</td>\n",
       "      <td>05-10</td>\n",
       "    </tr>\n",
       "    <tr>\n",
       "      <th>2</th>\n",
       "      <td>448</td>\n",
       "      <td>Boston - Roxbury</td>\n",
       "      <td>Governmental Organization</td>\n",
       "      <td>pm25</td>\n",
       "      <td>7.0</td>\n",
       "      <td>42.329399</td>\n",
       "      <td>-71.082497</td>\n",
       "      <td>2023-05-10 17:00:00-04:00</td>\n",
       "      <td>05-10</td>\n",
       "    </tr>\n",
       "    <tr>\n",
       "      <th>3</th>\n",
       "      <td>448</td>\n",
       "      <td>Boston - Roxbury</td>\n",
       "      <td>Governmental Organization</td>\n",
       "      <td>pm25</td>\n",
       "      <td>6.0</td>\n",
       "      <td>42.329399</td>\n",
       "      <td>-71.082497</td>\n",
       "      <td>2023-05-10 16:00:00-04:00</td>\n",
       "      <td>05-10</td>\n",
       "    </tr>\n",
       "    <tr>\n",
       "      <th>4</th>\n",
       "      <td>448</td>\n",
       "      <td>Boston - Roxbury</td>\n",
       "      <td>Governmental Organization</td>\n",
       "      <td>pm25</td>\n",
       "      <td>6.0</td>\n",
       "      <td>42.329399</td>\n",
       "      <td>-71.082497</td>\n",
       "      <td>2023-05-10 15:00:00-04:00</td>\n",
       "      <td>05-10</td>\n",
       "    </tr>\n",
       "  </tbody>\n",
       "</table>\n",
       "</div>"
      ],
      "text/plain": [
       "   locationId          location                     entity parameter  value  \\\n",
       "0         448  Boston - Roxbury  Governmental Organization      pm25    8.0   \n",
       "1         448  Boston - Roxbury  Governmental Organization      pm25    8.0   \n",
       "2         448  Boston - Roxbury  Governmental Organization      pm25    7.0   \n",
       "3         448  Boston - Roxbury  Governmental Organization      pm25    6.0   \n",
       "4         448  Boston - Roxbury  Governmental Organization      pm25    6.0   \n",
       "\n",
       "   sensor_lat  sensor_lon                local_time   Time  \n",
       "0   42.329399  -71.082497 2023-05-10 19:00:00-04:00  05-10  \n",
       "1   42.329399  -71.082497 2023-05-10 18:00:00-04:00  05-10  \n",
       "2   42.329399  -71.082497 2023-05-10 17:00:00-04:00  05-10  \n",
       "3   42.329399  -71.082497 2023-05-10 16:00:00-04:00  05-10  \n",
       "4   42.329399  -71.082497 2023-05-10 15:00:00-04:00  05-10  "
      ]
     },
     "execution_count": 306,
     "metadata": {},
     "output_type": "execute_result"
    }
   ],
   "source": [
    "da.head()"
   ]
  },
  {
   "cell_type": "code",
   "execution_count": 307,
   "id": "32d30b27-aac8-4374-a18f-fbc0b09fe297",
   "metadata": {},
   "outputs": [],
   "source": [
    "da_sorted = da.sort_values(by=[\"Time\"])"
   ]
  },
  {
   "cell_type": "code",
   "execution_count": 308,
   "id": "98ab84be-41f8-4b6a-be0b-932373a891f0",
   "metadata": {},
   "outputs": [],
   "source": [
    "da_sorted_group = da_sorted[['Time', \"value\"]]"
   ]
  },
  {
   "cell_type": "code",
   "execution_count": 309,
   "id": "f1eb9bdb-26e3-465e-89b7-aaed5ae0db1c",
   "metadata": {},
   "outputs": [],
   "source": [
    "da_sorted_group = da_sorted_group.groupby('Time').mean()"
   ]
  },
  {
   "cell_type": "code",
   "execution_count": 310,
   "id": "f659f234-c7c5-4197-bb41-0557781a0269",
   "metadata": {},
   "outputs": [
    {
     "data": {
      "text/html": [
       "<div>\n",
       "<style scoped>\n",
       "    .dataframe tbody tr th:only-of-type {\n",
       "        vertical-align: middle;\n",
       "    }\n",
       "\n",
       "    .dataframe tbody tr th {\n",
       "        vertical-align: top;\n",
       "    }\n",
       "\n",
       "    .dataframe thead th {\n",
       "        text-align: right;\n",
       "    }\n",
       "</style>\n",
       "<table border=\"1\" class=\"dataframe\">\n",
       "  <thead>\n",
       "    <tr style=\"text-align: right;\">\n",
       "      <th></th>\n",
       "      <th>value</th>\n",
       "    </tr>\n",
       "    <tr>\n",
       "      <th>Time</th>\n",
       "      <th></th>\n",
       "    </tr>\n",
       "  </thead>\n",
       "  <tbody>\n",
       "    <tr>\n",
       "      <th>04-30</th>\n",
       "      <td>4.053165</td>\n",
       "    </tr>\n",
       "    <tr>\n",
       "      <th>05-01</th>\n",
       "      <td>4.307353</td>\n",
       "    </tr>\n",
       "    <tr>\n",
       "      <th>05-02</th>\n",
       "      <td>4.297852</td>\n",
       "    </tr>\n",
       "    <tr>\n",
       "      <th>05-03</th>\n",
       "      <td>4.195856</td>\n",
       "    </tr>\n",
       "    <tr>\n",
       "      <th>05-04</th>\n",
       "      <td>1.997004</td>\n",
       "    </tr>\n",
       "  </tbody>\n",
       "</table>\n",
       "</div>"
      ],
      "text/plain": [
       "          value\n",
       "Time           \n",
       "04-30  4.053165\n",
       "05-01  4.307353\n",
       "05-02  4.297852\n",
       "05-03  4.195856\n",
       "05-04  1.997004"
      ]
     },
     "execution_count": 310,
     "metadata": {},
     "output_type": "execute_result"
    }
   ],
   "source": [
    "da_sorted_group.head()"
   ]
  },
  {
   "cell_type": "code",
   "execution_count": 311,
   "id": "3104aaee-3855-413a-8221-da39b8b2f9e4",
   "metadata": {},
   "outputs": [
    {
     "name": "stderr",
     "output_type": "stream",
     "text": [
      "/opt/conda/envs/sau24s/lib/python3.8/site-packages/pandas/plotting/_matplotlib/core.py:1192: UserWarning: FixedFormatter should only be used together with FixedLocator\n",
      "  ax.set_xticklabels(xticklabels)\n"
     ]
    },
    {
     "data": {
      "text/plain": [
       "<AxesSubplot:title={'center':'Daily PM2.5 Averages for May 1, 2023 - August 31, 2023 (Boston, MA)'}, xlabel='Time'>"
      ]
     },
     "execution_count": 311,
     "metadata": {},
     "output_type": "execute_result"
    },
    {
     "data": {
      "image/png": "[encoded data removed]",
      "text/plain": [
       "<Figure size 640x480 with 1 Axes>"
      ]
     },
     "metadata": {},
     "output_type": "display_data"
    }
   ],
   "source": [
    "da_sorted_group.plot(kind = \"line\", title=\"Daily PM2.5 Averages for May 1, 2023 - August 31, 2023 (Boston, MA)\")"
   ]
  },
  {
   "cell_type": "markdown",
   "id": "d9af5eb2-a0e7-49bf-9cda-e7c4dfee79b5",
   "metadata": {},
   "source": [
    "### 4. Plot the hourly averages of the government and community sensors on the same plot. The government averages will be in blue, community in orange, the x and y axis the same as the previous plot.\n",
    " "
   ]
  },
  {
   "cell_type": "code",
   "execution_count": 356,
   "id": "0082b662-a85a-45f5-87fa-c089de9345a9",
   "metadata": {},
   "outputs": [],
   "source": [
    "da_sorted_organization = da_sorted[[\"Time\", \"value\", \"entity\"]]"
   ]
  },
  {
   "cell_type": "code",
   "execution_count": 357,
   "id": "8b83aa6d-6e9d-41ce-b6b4-6b535001b847",
   "metadata": {},
   "outputs": [],
   "source": [
    "da_community_filter = da_sorted_organization[(da_sorted_organization[\"entity\"] == \"Community Organization\")]"
   ]
  },
  {
   "cell_type": "code",
   "execution_count": 358,
   "id": "5a0faff6-5ee0-48d0-aaf7-a268a518765f",
   "metadata": {},
   "outputs": [],
   "source": [
    "da_comm_mean = da_community_filter.groupby(\"Time\").mean()"
   ]
  },
  {
   "cell_type": "code",
   "execution_count": 359,
   "id": "bd76f867-e412-4f51-921b-c64fa9ffaf64",
   "metadata": {},
   "outputs": [
    {
     "data": {
      "text/html": [
       "<div>\n",
       "<style scoped>\n",
       "    .dataframe tbody tr th:only-of-type {\n",
       "        vertical-align: middle;\n",
       "    }\n",
       "\n",
       "    .dataframe tbody tr th {\n",
       "        vertical-align: top;\n",
       "    }\n",
       "\n",
       "    .dataframe thead th {\n",
       "        text-align: right;\n",
       "    }\n",
       "</style>\n",
       "<table border=\"1\" class=\"dataframe\">\n",
       "  <thead>\n",
       "    <tr style=\"text-align: right;\">\n",
       "      <th></th>\n",
       "      <th>Community_Avg</th>\n",
       "    </tr>\n",
       "    <tr>\n",
       "      <th>Time</th>\n",
       "      <th></th>\n",
       "    </tr>\n",
       "  </thead>\n",
       "  <tbody>\n",
       "    <tr>\n",
       "      <th>04-30</th>\n",
       "      <td>4.016438</td>\n",
       "    </tr>\n",
       "    <tr>\n",
       "      <th>05-01</th>\n",
       "      <td>4.138551</td>\n",
       "    </tr>\n",
       "    <tr>\n",
       "      <th>05-02</th>\n",
       "      <td>4.140172</td>\n",
       "    </tr>\n",
       "    <tr>\n",
       "      <th>05-03</th>\n",
       "      <td>4.063314</td>\n",
       "    </tr>\n",
       "    <tr>\n",
       "      <th>05-04</th>\n",
       "      <td>1.917761</td>\n",
       "    </tr>\n",
       "    <tr>\n",
       "      <th>...</th>\n",
       "      <td>...</td>\n",
       "    </tr>\n",
       "    <tr>\n",
       "      <th>08-06</th>\n",
       "      <td>16.293856</td>\n",
       "    </tr>\n",
       "    <tr>\n",
       "      <th>08-07</th>\n",
       "      <td>25.485814</td>\n",
       "    </tr>\n",
       "    <tr>\n",
       "      <th>08-08</th>\n",
       "      <td>14.040461</td>\n",
       "    </tr>\n",
       "    <tr>\n",
       "      <th>08-09</th>\n",
       "      <td>13.569331</td>\n",
       "    </tr>\n",
       "    <tr>\n",
       "      <th>08-10</th>\n",
       "      <td>23.581884</td>\n",
       "    </tr>\n",
       "  </tbody>\n",
       "</table>\n",
       "<p>103 rows × 1 columns</p>\n",
       "</div>"
      ],
      "text/plain": [
       "       Community_Avg\n",
       "Time                \n",
       "04-30       4.016438\n",
       "05-01       4.138551\n",
       "05-02       4.140172\n",
       "05-03       4.063314\n",
       "05-04       1.917761\n",
       "...              ...\n",
       "08-06      16.293856\n",
       "08-07      25.485814\n",
       "08-08      14.040461\n",
       "08-09      13.569331\n",
       "08-10      23.581884\n",
       "\n",
       "[103 rows x 1 columns]"
      ]
     },
     "execution_count": 359,
     "metadata": {},
     "output_type": "execute_result"
    }
   ],
   "source": [
    "da_comm_mean.rename(columns={\"value\": \"Community_Avg\"})"
   ]
  },
  {
   "cell_type": "code",
   "execution_count": 360,
   "id": "81f6b3d1-2ee1-4871-9399-f9143aeaeb6d",
   "metadata": {},
   "outputs": [],
   "source": [
    "da_government_filter = da_sorted_organization[(da_sorted_organization[\"entity\"] == \"Governmental Organization\")]"
   ]
  },
  {
   "cell_type": "code",
   "execution_count": 361,
   "id": "373cde97-bb26-4db0-85d8-32a98cb8f2f8",
   "metadata": {},
   "outputs": [
    {
     "data": {
      "text/html": [
       "<div>\n",
       "<style scoped>\n",
       "    .dataframe tbody tr th:only-of-type {\n",
       "        vertical-align: middle;\n",
       "    }\n",
       "\n",
       "    .dataframe tbody tr th {\n",
       "        vertical-align: top;\n",
       "    }\n",
       "\n",
       "    .dataframe thead th {\n",
       "        text-align: right;\n",
       "    }\n",
       "</style>\n",
       "<table border=\"1\" class=\"dataframe\">\n",
       "  <thead>\n",
       "    <tr style=\"text-align: right;\">\n",
       "      <th></th>\n",
       "      <th>Time</th>\n",
       "      <th>value</th>\n",
       "      <th>entity</th>\n",
       "    </tr>\n",
       "  </thead>\n",
       "  <tbody>\n",
       "    <tr>\n",
       "      <th>237</th>\n",
       "      <td>04-30</td>\n",
       "      <td>4.0</td>\n",
       "      <td>Governmental Organization</td>\n",
       "    </tr>\n",
       "    <tr>\n",
       "      <th>235</th>\n",
       "      <td>04-30</td>\n",
       "      <td>4.0</td>\n",
       "      <td>Governmental Organization</td>\n",
       "    </tr>\n",
       "    <tr>\n",
       "      <th>236</th>\n",
       "      <td>04-30</td>\n",
       "      <td>4.0</td>\n",
       "      <td>Governmental Organization</td>\n",
       "    </tr>\n",
       "    <tr>\n",
       "      <th>473</th>\n",
       "      <td>04-30</td>\n",
       "      <td>5.0</td>\n",
       "      <td>Governmental Organization</td>\n",
       "    </tr>\n",
       "    <tr>\n",
       "      <th>474</th>\n",
       "      <td>04-30</td>\n",
       "      <td>5.0</td>\n",
       "      <td>Governmental Organization</td>\n",
       "    </tr>\n",
       "  </tbody>\n",
       "</table>\n",
       "</div>"
      ],
      "text/plain": [
       "      Time  value                     entity\n",
       "237  04-30    4.0  Governmental Organization\n",
       "235  04-30    4.0  Governmental Organization\n",
       "236  04-30    4.0  Governmental Organization\n",
       "473  04-30    5.0  Governmental Organization\n",
       "474  04-30    5.0  Governmental Organization"
      ]
     },
     "execution_count": 361,
     "metadata": {},
     "output_type": "execute_result"
    }
   ],
   "source": [
    "da_government_filter.head()"
   ]
  },
  {
   "cell_type": "code",
   "execution_count": 362,
   "id": "9f3e2d1f-d350-457b-a1d3-ba1570bcdc8f",
   "metadata": {},
   "outputs": [],
   "source": [
    "da_gov_mean = da_government_filter.groupby(\"Time\").mean()"
   ]
  },
  {
   "cell_type": "code",
   "execution_count": 363,
   "id": "fea779e3-43ea-4f5c-801e-c6299843f4b8",
   "metadata": {},
   "outputs": [
    {
     "data": {
      "text/html": [
       "<div>\n",
       "<style scoped>\n",
       "    .dataframe tbody tr th:only-of-type {\n",
       "        vertical-align: middle;\n",
       "    }\n",
       "\n",
       "    .dataframe tbody tr th {\n",
       "        vertical-align: top;\n",
       "    }\n",
       "\n",
       "    .dataframe thead th {\n",
       "        text-align: right;\n",
       "    }\n",
       "</style>\n",
       "<table border=\"1\" class=\"dataframe\">\n",
       "  <thead>\n",
       "    <tr style=\"text-align: right;\">\n",
       "      <th></th>\n",
       "      <th>Government_Avg</th>\n",
       "    </tr>\n",
       "    <tr>\n",
       "      <th>Time</th>\n",
       "      <th></th>\n",
       "    </tr>\n",
       "  </thead>\n",
       "  <tbody>\n",
       "    <tr>\n",
       "      <th>04-30</th>\n",
       "      <td>4.500000</td>\n",
       "    </tr>\n",
       "    <tr>\n",
       "      <th>05-01</th>\n",
       "      <td>5.812500</td>\n",
       "    </tr>\n",
       "    <tr>\n",
       "      <th>05-02</th>\n",
       "      <td>6.587500</td>\n",
       "    </tr>\n",
       "    <tr>\n",
       "      <th>05-03</th>\n",
       "      <td>6.062500</td>\n",
       "    </tr>\n",
       "    <tr>\n",
       "      <th>05-04</th>\n",
       "      <td>4.000000</td>\n",
       "    </tr>\n",
       "    <tr>\n",
       "      <th>...</th>\n",
       "      <td>...</td>\n",
       "    </tr>\n",
       "    <tr>\n",
       "      <th>08-06</th>\n",
       "      <td>10.802817</td>\n",
       "    </tr>\n",
       "    <tr>\n",
       "      <th>08-07</th>\n",
       "      <td>14.971831</td>\n",
       "    </tr>\n",
       "    <tr>\n",
       "      <th>08-08</th>\n",
       "      <td>7.605634</td>\n",
       "    </tr>\n",
       "    <tr>\n",
       "      <th>08-09</th>\n",
       "      <td>8.555556</td>\n",
       "    </tr>\n",
       "    <tr>\n",
       "      <th>08-10</th>\n",
       "      <td>14.362069</td>\n",
       "    </tr>\n",
       "  </tbody>\n",
       "</table>\n",
       "<p>103 rows × 1 columns</p>\n",
       "</div>"
      ],
      "text/plain": [
       "       Government_Avg\n",
       "Time                 \n",
       "04-30        4.500000\n",
       "05-01        5.812500\n",
       "05-02        6.587500\n",
       "05-03        6.062500\n",
       "05-04        4.000000\n",
       "...               ...\n",
       "08-06       10.802817\n",
       "08-07       14.971831\n",
       "08-08        7.605634\n",
       "08-09        8.555556\n",
       "08-10       14.362069\n",
       "\n",
       "[103 rows x 1 columns]"
      ]
     },
     "execution_count": 363,
     "metadata": {},
     "output_type": "execute_result"
    }
   ],
   "source": [
    "da_gov_mean.rename(columns={\"value\": \"Government_Avg\"})"
   ]
  },
  {
   "cell_type": "code",
   "execution_count": 393,
   "id": "ffa80c6d-8bad-4a7f-af69-c8323e309981",
   "metadata": {},
   "outputs": [],
   "source": [
    "da_viz = pd.concat(\n",
    "    [\n",
    "    da_comm_mean, da_gov_mean\n",
    "    ], axis=1\n",
    ")\n",
    "da_viz.columns = [\"Community_Avg\", \"Gov_Avg\"]"
   ]
  },
  {
   "cell_type": "code",
   "execution_count": 394,
   "id": "f8fba592-c3c0-4dfc-a9b8-d806f67ebd38",
   "metadata": {},
   "outputs": [
    {
     "name": "stderr",
     "output_type": "stream",
     "text": [
      "/opt/conda/envs/sau24s/lib/python3.8/site-packages/pandas/plotting/_matplotlib/core.py:1192: UserWarning: FixedFormatter should only be used together with FixedLocator\n",
      "  ax.set_xticklabels(xticklabels)\n"
     ]
    },
    {
     "data": {
      "text/plain": [
       "<AxesSubplot:title={'center':'Daily PM2.5 Averages for May 1, 2023 - August 31, 2023 (Boston, MA)'}, xlabel='Time'>"
      ]
     },
     "execution_count": 394,
     "metadata": {},
     "output_type": "execute_result"
    },
    {
     "data": {
      "image/png": "[encoded data removed]",
      "text/plain": [
       "<Figure size 640x480 with 1 Axes>"
      ]
     },
     "metadata": {},
     "output_type": "display_data"
    }
   ],
   "source": [
    "da_viz.plot(title=\"Daily PM2.5 Averages for May 1, 2023 - August 31, 2023 (Boston, MA)\", color=(\"orange\", \"blue\"))"
   ]
  },
  {
   "cell_type": "markdown",
   "id": "7f398343-6097-4c66-9225-3c65fec79883",
   "metadata": {},
   "source": [
    "---"
   ]
  },
  {
   "cell_type": "markdown",
   "id": "6eab53a4-c317-4c4e-bd8e-bd680a8f0e26",
   "metadata": {},
   "source": [
    "# Perform basic statistical significance tests of air quality data"
   ]
  },
  {
   "cell_type": "markdown",
   "id": "7b325cff-18ff-4465-8628-e68884bd749f",
   "metadata": {},
   "source": [
    "#### 1. Build a dataset with 6566 points sampled from 100 random draws of data from the community sensors:"
   ]
  },
  {
   "cell_type": "code",
   "execution_count": 323,
   "id": "e11420a6-73e0-4945-b4a4-c740b0b99bf5",
   "metadata": {},
   "outputs": [],
   "source": [
    "da_comm_sample = da_comm[\"value\"].sample(95).mean()"
   ]
  },
  {
   "cell_type": "code",
   "execution_count": 324,
   "id": "7b95f3e3-8b4e-49b6-95f2-044eed62d4d3",
   "metadata": {},
   "outputs": [
    {
     "data": {
      "text/plain": [
       "12.83473684210526"
      ]
     },
     "execution_count": 324,
     "metadata": {},
     "output_type": "execute_result"
    }
   ],
   "source": [
    "da_comm_sample"
   ]
  },
  {
   "cell_type": "code",
   "execution_count": 346,
   "id": "ec96f2bb-02d6-4f14-a70d-a2ccc5130282",
   "metadata": {},
   "outputs": [],
   "source": [
    "data = [\n",
    "        [da_comm[\"value\"].sample(6566).mean() for i in range(0,100)]\n",
    "            for j in range(0,6566)\n",
    "]"
   ]
  },
  {
   "cell_type": "code",
   "execution_count": 347,
   "id": "850a3449-375d-4182-8415-e591676309a3",
   "metadata": {},
   "outputs": [],
   "source": [
    "sample_df = pd.DataFrame(data)"
   ]
  },
  {
   "cell_type": "code",
   "execution_count": 348,
   "id": "54d3e90f-0e28-4fef-a3a7-5e95aee2c72c",
   "metadata": {},
   "outputs": [
    {
     "data": {
      "text/html": [
       "<div>\n",
       "<style scoped>\n",
       "    .dataframe tbody tr th:only-of-type {\n",
       "        vertical-align: middle;\n",
       "    }\n",
       "\n",
       "    .dataframe tbody tr th {\n",
       "        vertical-align: top;\n",
       "    }\n",
       "\n",
       "    .dataframe thead th {\n",
       "        text-align: right;\n",
       "    }\n",
       "</style>\n",
       "<table border=\"1\" class=\"dataframe\">\n",
       "  <thead>\n",
       "    <tr style=\"text-align: right;\">\n",
       "      <th></th>\n",
       "      <th>0</th>\n",
       "      <th>1</th>\n",
       "      <th>2</th>\n",
       "      <th>3</th>\n",
       "      <th>4</th>\n",
       "      <th>5</th>\n",
       "      <th>6</th>\n",
       "      <th>7</th>\n",
       "      <th>8</th>\n",
       "      <th>9</th>\n",
       "      <th>...</th>\n",
       "      <th>90</th>\n",
       "      <th>91</th>\n",
       "      <th>92</th>\n",
       "      <th>93</th>\n",
       "      <th>94</th>\n",
       "      <th>95</th>\n",
       "      <th>96</th>\n",
       "      <th>97</th>\n",
       "      <th>98</th>\n",
       "      <th>99</th>\n",
       "    </tr>\n",
       "  </thead>\n",
       "  <tbody>\n",
       "    <tr>\n",
       "      <th>0</th>\n",
       "      <td>11.304828</td>\n",
       "      <td>11.280308</td>\n",
       "      <td>11.268992</td>\n",
       "      <td>11.547883</td>\n",
       "      <td>11.318246</td>\n",
       "      <td>10.913600</td>\n",
       "      <td>11.239979</td>\n",
       "      <td>11.241243</td>\n",
       "      <td>11.360798</td>\n",
       "      <td>11.340923</td>\n",
       "      <td>...</td>\n",
       "      <td>11.214529</td>\n",
       "      <td>11.353716</td>\n",
       "      <td>11.103351</td>\n",
       "      <td>11.164316</td>\n",
       "      <td>11.200289</td>\n",
       "      <td>11.386247</td>\n",
       "      <td>11.356686</td>\n",
       "      <td>11.182577</td>\n",
       "      <td>11.572281</td>\n",
       "      <td>11.325419</td>\n",
       "    </tr>\n",
       "    <tr>\n",
       "      <th>1</th>\n",
       "      <td>11.500396</td>\n",
       "      <td>11.040420</td>\n",
       "      <td>11.363905</td>\n",
       "      <td>11.227429</td>\n",
       "      <td>11.234161</td>\n",
       "      <td>11.247335</td>\n",
       "      <td>11.410448</td>\n",
       "      <td>11.165321</td>\n",
       "      <td>11.377703</td>\n",
       "      <td>11.387618</td>\n",
       "      <td>...</td>\n",
       "      <td>11.397959</td>\n",
       "      <td>11.292872</td>\n",
       "      <td>11.371292</td>\n",
       "      <td>11.444883</td>\n",
       "      <td>11.561194</td>\n",
       "      <td>11.435334</td>\n",
       "      <td>11.152726</td>\n",
       "      <td>11.166205</td>\n",
       "      <td>11.553899</td>\n",
       "      <td>11.297731</td>\n",
       "    </tr>\n",
       "    <tr>\n",
       "      <th>2</th>\n",
       "      <td>11.490390</td>\n",
       "      <td>11.228480</td>\n",
       "      <td>11.566174</td>\n",
       "      <td>11.271017</td>\n",
       "      <td>11.037176</td>\n",
       "      <td>11.468002</td>\n",
       "      <td>11.280963</td>\n",
       "      <td>11.350822</td>\n",
       "      <td>11.301249</td>\n",
       "      <td>11.407752</td>\n",
       "      <td>...</td>\n",
       "      <td>11.270195</td>\n",
       "      <td>11.410585</td>\n",
       "      <td>11.119784</td>\n",
       "      <td>11.114956</td>\n",
       "      <td>11.369936</td>\n",
       "      <td>11.308574</td>\n",
       "      <td>11.365565</td>\n",
       "      <td>11.489400</td>\n",
       "      <td>11.205757</td>\n",
       "      <td>10.990040</td>\n",
       "    </tr>\n",
       "    <tr>\n",
       "      <th>3</th>\n",
       "      <td>11.225860</td>\n",
       "      <td>11.511209</td>\n",
       "      <td>11.348553</td>\n",
       "      <td>11.184435</td>\n",
       "      <td>11.156747</td>\n",
       "      <td>11.469464</td>\n",
       "      <td>11.302909</td>\n",
       "      <td>11.410463</td>\n",
       "      <td>11.365595</td>\n",
       "      <td>11.298858</td>\n",
       "      <td>...</td>\n",
       "      <td>11.242431</td>\n",
       "      <td>11.461255</td>\n",
       "      <td>11.405087</td>\n",
       "      <td>11.430323</td>\n",
       "      <td>11.356884</td>\n",
       "      <td>11.351660</td>\n",
       "      <td>11.142811</td>\n",
       "      <td>11.217575</td>\n",
       "      <td>11.020682</td>\n",
       "      <td>11.302741</td>\n",
       "    </tr>\n",
       "    <tr>\n",
       "      <th>4</th>\n",
       "      <td>11.544791</td>\n",
       "      <td>11.571231</td>\n",
       "      <td>11.011407</td>\n",
       "      <td>11.157889</td>\n",
       "      <td>11.284359</td>\n",
       "      <td>11.274718</td>\n",
       "      <td>11.205011</td>\n",
       "      <td>11.335867</td>\n",
       "      <td>11.052361</td>\n",
       "      <td>11.160859</td>\n",
       "      <td>...</td>\n",
       "      <td>11.482516</td>\n",
       "      <td>11.274673</td>\n",
       "      <td>11.403625</td>\n",
       "      <td>11.059229</td>\n",
       "      <td>11.462138</td>\n",
       "      <td>11.289689</td>\n",
       "      <td>11.349193</td>\n",
       "      <td>11.169144</td>\n",
       "      <td>11.129272</td>\n",
       "      <td>11.369327</td>\n",
       "    </tr>\n",
       "    <tr>\n",
       "      <th>...</th>\n",
       "      <td>...</td>\n",
       "      <td>...</td>\n",
       "      <td>...</td>\n",
       "      <td>...</td>\n",
       "      <td>...</td>\n",
       "      <td>...</td>\n",
       "      <td>...</td>\n",
       "      <td>...</td>\n",
       "      <td>...</td>\n",
       "      <td>...</td>\n",
       "      <td>...</td>\n",
       "      <td>...</td>\n",
       "      <td>...</td>\n",
       "      <td>...</td>\n",
       "      <td>...</td>\n",
       "      <td>...</td>\n",
       "      <td>...</td>\n",
       "      <td>...</td>\n",
       "      <td>...</td>\n",
       "      <td>...</td>\n",
       "      <td>...</td>\n",
       "    </tr>\n",
       "    <tr>\n",
       "      <th>6561</th>\n",
       "      <td>11.346817</td>\n",
       "      <td>11.141060</td>\n",
       "      <td>11.062245</td>\n",
       "      <td>11.491989</td>\n",
       "      <td>11.398081</td>\n",
       "      <td>11.227581</td>\n",
       "      <td>11.446726</td>\n",
       "      <td>11.269510</td>\n",
       "      <td>11.221063</td>\n",
       "      <td>11.374292</td>\n",
       "      <td>...</td>\n",
       "      <td>11.388334</td>\n",
       "      <td>11.367682</td>\n",
       "      <td>10.991273</td>\n",
       "      <td>11.260905</td>\n",
       "      <td>11.377292</td>\n",
       "      <td>11.225175</td>\n",
       "      <td>11.173073</td>\n",
       "      <td>11.653046</td>\n",
       "      <td>11.526302</td>\n",
       "      <td>11.271185</td>\n",
       "    </tr>\n",
       "    <tr>\n",
       "      <th>6562</th>\n",
       "      <td>11.286004</td>\n",
       "      <td>11.349132</td>\n",
       "      <td>11.312291</td>\n",
       "      <td>11.234618</td>\n",
       "      <td>11.053183</td>\n",
       "      <td>11.166646</td>\n",
       "      <td>11.520667</td>\n",
       "      <td>11.116844</td>\n",
       "      <td>11.272129</td>\n",
       "      <td>11.395111</td>\n",
       "      <td>...</td>\n",
       "      <td>11.188364</td>\n",
       "      <td>11.152254</td>\n",
       "      <td>11.430186</td>\n",
       "      <td>11.350822</td>\n",
       "      <td>11.089522</td>\n",
       "      <td>11.298416</td>\n",
       "      <td>11.516723</td>\n",
       "      <td>11.236323</td>\n",
       "      <td>11.270439</td>\n",
       "      <td>11.213159</td>\n",
       "    </tr>\n",
       "    <tr>\n",
       "      <th>6563</th>\n",
       "      <td>11.280201</td>\n",
       "      <td>11.415489</td>\n",
       "      <td>11.206107</td>\n",
       "      <td>11.243436</td>\n",
       "      <td>10.942233</td>\n",
       "      <td>11.312245</td>\n",
       "      <td>11.279120</td>\n",
       "      <td>11.333704</td>\n",
       "      <td>11.324140</td>\n",
       "      <td>11.171459</td>\n",
       "      <td>...</td>\n",
       "      <td>11.420408</td>\n",
       "      <td>11.408696</td>\n",
       "      <td>11.440908</td>\n",
       "      <td>11.344197</td>\n",
       "      <td>11.503214</td>\n",
       "      <td>11.218718</td>\n",
       "      <td>11.412473</td>\n",
       "      <td>11.381298</td>\n",
       "      <td>11.237253</td>\n",
       "      <td>11.368916</td>\n",
       "    </tr>\n",
       "    <tr>\n",
       "      <th>6564</th>\n",
       "      <td>11.243847</td>\n",
       "      <td>11.453777</td>\n",
       "      <td>11.180993</td>\n",
       "      <td>11.367499</td>\n",
       "      <td>11.277521</td>\n",
       "      <td>11.247182</td>\n",
       "      <td>11.042050</td>\n",
       "      <td>11.477490</td>\n",
       "      <td>11.087877</td>\n",
       "      <td>11.204965</td>\n",
       "      <td>...</td>\n",
       "      <td>11.361758</td>\n",
       "      <td>11.241258</td>\n",
       "      <td>11.214072</td>\n",
       "      <td>11.495492</td>\n",
       "      <td>11.192400</td>\n",
       "      <td>11.402330</td>\n",
       "      <td>11.480094</td>\n",
       "      <td>11.257112</td>\n",
       "      <td>11.412930</td>\n",
       "      <td>11.545522</td>\n",
       "    </tr>\n",
       "    <tr>\n",
       "      <th>6565</th>\n",
       "      <td>11.446543</td>\n",
       "      <td>11.346055</td>\n",
       "      <td>11.435410</td>\n",
       "      <td>11.370058</td>\n",
       "      <td>11.117697</td>\n",
       "      <td>11.265961</td>\n",
       "      <td>11.207310</td>\n",
       "      <td>11.539111</td>\n",
       "      <td>11.392751</td>\n",
       "      <td>11.308514</td>\n",
       "      <td>...</td>\n",
       "      <td>11.319753</td>\n",
       "      <td>11.340238</td>\n",
       "      <td>11.326744</td>\n",
       "      <td>11.365337</td>\n",
       "      <td>11.000320</td>\n",
       "      <td>11.254082</td>\n",
       "      <td>11.360631</td>\n",
       "      <td>11.517179</td>\n",
       "      <td>11.404341</td>\n",
       "      <td>11.297716</td>\n",
       "    </tr>\n",
       "  </tbody>\n",
       "</table>\n",
       "<p>6566 rows × 100 columns</p>\n",
       "</div>"
      ],
      "text/plain": [
       "             0          1          2          3          4          5   \\\n",
       "0     11.304828  11.280308  11.268992  11.547883  11.318246  10.913600   \n",
       "1     11.500396  11.040420  11.363905  11.227429  11.234161  11.247335   \n",
       "2     11.490390  11.228480  11.566174  11.271017  11.037176  11.468002   \n",
       "3     11.225860  11.511209  11.348553  11.184435  11.156747  11.469464   \n",
       "4     11.544791  11.571231  11.011407  11.157889  11.284359  11.274718   \n",
       "...         ...        ...        ...        ...        ...        ...   \n",
       "6561  11.346817  11.141060  11.062245  11.491989  11.398081  11.227581   \n",
       "6562  11.286004  11.349132  11.312291  11.234618  11.053183  11.166646   \n",
       "6563  11.280201  11.415489  11.206107  11.243436  10.942233  11.312245   \n",
       "6564  11.243847  11.453777  11.180993  11.367499  11.277521  11.247182   \n",
       "6565  11.446543  11.346055  11.435410  11.370058  11.117697  11.265961   \n",
       "\n",
       "             6          7          8          9   ...         90         91  \\\n",
       "0     11.239979  11.241243  11.360798  11.340923  ...  11.214529  11.353716   \n",
       "1     11.410448  11.165321  11.377703  11.387618  ...  11.397959  11.292872   \n",
       "2     11.280963  11.350822  11.301249  11.407752  ...  11.270195  11.410585   \n",
       "3     11.302909  11.410463  11.365595  11.298858  ...  11.242431  11.461255   \n",
       "4     11.205011  11.335867  11.052361  11.160859  ...  11.482516  11.274673   \n",
       "...         ...        ...        ...        ...  ...        ...        ...   \n",
       "6561  11.446726  11.269510  11.221063  11.374292  ...  11.388334  11.367682   \n",
       "6562  11.520667  11.116844  11.272129  11.395111  ...  11.188364  11.152254   \n",
       "6563  11.279120  11.333704  11.324140  11.171459  ...  11.420408  11.408696   \n",
       "6564  11.042050  11.477490  11.087877  11.204965  ...  11.361758  11.241258   \n",
       "6565  11.207310  11.539111  11.392751  11.308514  ...  11.319753  11.340238   \n",
       "\n",
       "             92         93         94         95         96         97  \\\n",
       "0     11.103351  11.164316  11.200289  11.386247  11.356686  11.182577   \n",
       "1     11.371292  11.444883  11.561194  11.435334  11.152726  11.166205   \n",
       "2     11.119784  11.114956  11.369936  11.308574  11.365565  11.489400   \n",
       "3     11.405087  11.430323  11.356884  11.351660  11.142811  11.217575   \n",
       "4     11.403625  11.059229  11.462138  11.289689  11.349193  11.169144   \n",
       "...         ...        ...        ...        ...        ...        ...   \n",
       "6561  10.991273  11.260905  11.377292  11.225175  11.173073  11.653046   \n",
       "6562  11.430186  11.350822  11.089522  11.298416  11.516723  11.236323   \n",
       "6563  11.440908  11.344197  11.503214  11.218718  11.412473  11.381298   \n",
       "6564  11.214072  11.495492  11.192400  11.402330  11.480094  11.257112   \n",
       "6565  11.326744  11.365337  11.000320  11.254082  11.360631  11.517179   \n",
       "\n",
       "             98         99  \n",
       "0     11.572281  11.325419  \n",
       "1     11.553899  11.297731  \n",
       "2     11.205757  10.990040  \n",
       "3     11.020682  11.302741  \n",
       "4     11.129272  11.369327  \n",
       "...         ...        ...  \n",
       "6561  11.526302  11.271185  \n",
       "6562  11.270439  11.213159  \n",
       "6563  11.237253  11.368916  \n",
       "6564  11.412930  11.545522  \n",
       "6565  11.404341  11.297716  \n",
       "\n",
       "[6566 rows x 100 columns]"
      ]
     },
     "execution_count": 348,
     "metadata": {},
     "output_type": "execute_result"
    }
   ],
   "source": [
    "sample_df"
   ]
  },
  {
   "cell_type": "code",
   "execution_count": 349,
   "id": "645ece8e-2ed9-4ba4-a64b-1aeba80c5384",
   "metadata": {},
   "outputs": [],
   "source": [
    "final_mean = sample_df.mean(axis=1)"
   ]
  },
  {
   "cell_type": "code",
   "execution_count": 350,
   "id": "c17efa91-ebb8-4edf-b649-ce5e9374e714",
   "metadata": {},
   "outputs": [],
   "source": [
    "final_mean_df = pd.DataFrame(final_mean)"
   ]
  },
  {
   "cell_type": "code",
   "execution_count": 351,
   "id": "840f27e8-bc07-454c-9424-66f539cca40c",
   "metadata": {},
   "outputs": [
    {
     "data": {
      "text/plain": [
       "count    6566.000000\n",
       "mean        9.476866\n",
       "std         7.794083\n",
       "min         1.000000\n",
       "25%         5.000000\n",
       "50%         7.000000\n",
       "75%        12.000000\n",
       "max        66.000000\n",
       "Name: value, dtype: float64"
      ]
     },
     "execution_count": 351,
     "metadata": {},
     "output_type": "execute_result"
    }
   ],
   "source": [
    "# Government \n",
    "da_government_filter[\"value\"].describe()"
   ]
  },
  {
   "cell_type": "code",
   "execution_count": 352,
   "id": "029450ea-a2be-42e4-8d7d-276631d3aceb",
   "metadata": {},
   "outputs": [
    {
     "data": {
      "text/html": [
       "<div>\n",
       "<style scoped>\n",
       "    .dataframe tbody tr th:only-of-type {\n",
       "        vertical-align: middle;\n",
       "    }\n",
       "\n",
       "    .dataframe tbody tr th {\n",
       "        vertical-align: top;\n",
       "    }\n",
       "\n",
       "    .dataframe thead th {\n",
       "        text-align: right;\n",
       "    }\n",
       "</style>\n",
       "<table border=\"1\" class=\"dataframe\">\n",
       "  <thead>\n",
       "    <tr style=\"text-align: right;\">\n",
       "      <th></th>\n",
       "      <th>0</th>\n",
       "    </tr>\n",
       "  </thead>\n",
       "  <tbody>\n",
       "    <tr>\n",
       "      <th>count</th>\n",
       "      <td>6566.000000</td>\n",
       "    </tr>\n",
       "    <tr>\n",
       "      <th>mean</th>\n",
       "      <td>11.308097</td>\n",
       "    </tr>\n",
       "    <tr>\n",
       "      <th>std</th>\n",
       "      <td>0.013952</td>\n",
       "    </tr>\n",
       "    <tr>\n",
       "      <th>min</th>\n",
       "      <td>11.248067</td>\n",
       "    </tr>\n",
       "    <tr>\n",
       "      <th>25%</th>\n",
       "      <td>11.298676</td>\n",
       "    </tr>\n",
       "    <tr>\n",
       "      <th>50%</th>\n",
       "      <td>11.308125</td>\n",
       "    </tr>\n",
       "    <tr>\n",
       "      <th>75%</th>\n",
       "      <td>11.317364</td>\n",
       "    </tr>\n",
       "    <tr>\n",
       "      <th>max</th>\n",
       "      <td>11.362059</td>\n",
       "    </tr>\n",
       "  </tbody>\n",
       "</table>\n",
       "</div>"
      ],
      "text/plain": [
       "                 0\n",
       "count  6566.000000\n",
       "mean     11.308097\n",
       "std       0.013952\n",
       "min      11.248067\n",
       "25%      11.298676\n",
       "50%      11.308125\n",
       "75%      11.317364\n",
       "max      11.362059"
      ]
     },
     "execution_count": 352,
     "metadata": {},
     "output_type": "execute_result"
    }
   ],
   "source": [
    "# Community\n",
    "final_mean_df.describe()"
   ]
  },
  {
   "cell_type": "markdown",
   "id": "23edb849-9c02-4eca-855d-3114b5eb216e",
   "metadata": {},
   "source": [
    "#### Similar to the Detroit OpenAQ project, I created a dataset with 6566 points sampled from 100 random draws of data from the community sensors to accurately compare statistics describing readings gathered from Community and Governmental Sensors from May 1, 2023 through August 31, 2023."
   ]
  },
  {
   "cell_type": "markdown",
   "id": "eb5b968d-2d26-4094-81a8-72d0c944ff4c",
   "metadata": {},
   "source": [
    "---"
   ]
  },
  {
   "cell_type": "markdown",
   "id": "45297181-071c-48ec-baa4-0ee95bbd5698",
   "metadata": {},
   "source": [
    "# Task: Determine if the sensor means for the day are different, and if that difference is statistically significant."
   ]
  },
  {
   "cell_type": "markdown",
   "id": "f7efbcce-7e0c-4a82-96dc-38a3e0531969",
   "metadata": {},
   "source": [
    "### 2.  What are the descriptive statistics of your sample and the government data?"
   ]
  },
  {
   "cell_type": "markdown",
   "id": "dc2ed085-e7d8-4bfe-92e8-b82f3c1dc464",
   "metadata": {},
   "source": [
    "### Government and Community Sensor readings share a similar mean and 75th percentile mean.  \n",
    "\n",
    "### The graph above plotting average daily sensor ratings filterd by collecting entity provides a clear visualization that while community organizations had higher maxes and lower mins, both community and governmental shared similar patterns that suggests air quality was detrimentally affected by an abnormal cause around the time of the wildfires. The graph below provides a closer look for the time frame of June 5, 2023 through July 19, 2023 when the poor air quality peaked."
   ]
  },
  {
   "cell_type": "code",
   "execution_count": 392,
   "id": "96976e5a-3323-457d-a06d-b541f7a9dec0",
   "metadata": {},
   "outputs": [
    {
     "name": "stderr",
     "output_type": "stream",
     "text": [
      "/opt/conda/envs/sau24s/lib/python3.8/site-packages/pandas/plotting/_matplotlib/core.py:1192: UserWarning: FixedFormatter should only be used together with FixedLocator\n",
      "  ax.set_xticklabels(xticklabels)\n"
     ]
    },
    {
     "data": {
      "text/plain": [
       "<AxesSubplot:title={'center':'Daily PM2.5 Averages for June 6, 2023 through July 24, 2023 (Boston, MA)'}, xlabel='Time'>"
      ]
     },
     "execution_count": 392,
     "metadata": {},
     "output_type": "execute_result"
    },
    {
     "data": {
      "image/png": "[encoded data removed]",
      "text/plain": [
       "<Figure size 640x480 with 1 Axes>"
      ]
     },
     "metadata": {},
     "output_type": "display_data"
    }
   ],
   "source": [
    "da_look.plot(title=\"Daily PM2.5 Averages for June 6, 2023 through July 24, 2023 (Boston, MA)\", color=(\"orange\", \"blue\"))"
   ]
  },
  {
   "cell_type": "code",
   "execution_count": 106,
   "id": "ee4117f9-836e-4fd6-bd81-9fc482934288",
   "metadata": {},
   "outputs": [
    {
     "name": "stderr",
     "output_type": "stream",
     "text": [
      "/opt/conda/envs/sau24s/lib/python3.8/site-packages/pandas/plotting/_matplotlib/core.py:1192: UserWarning: FixedFormatter should only be used together with FixedLocator\n",
      "  ax.set_xticklabels(xticklabels)\n"
     ]
    },
    {
     "data": {
      "text/plain": [
       "<AxesSubplot:title={'center':'Hourly PM2.5 Averages for June 6, 2023 (Detroit, MI)'}>"
      ]
     },
     "execution_count": 106,
     "metadata": {},
     "output_type": "execute_result"
    },
    {
     "data": {
      "image/png": "[encoded data removed]",
      "text/plain": [
       "<Figure size 640x480 with 1 Axes>"
      ]
     },
     "metadata": {},
     "output_type": "display_data"
    }
   ],
   "source": [
    "da_viz.plot(title=\"Hourly PM2.5 Averages for June 6, 2023 (Detroit, MI)\", color=(\"orange\", \"blue\"))"
   ]
  },
  {
   "cell_type": "markdown",
   "id": "b4215f77-e616-497e-82bb-2991a5cfd538",
   "metadata": {},
   "source": [
    "## Comparing the max reading captured in Detroit, MI on June 6, 2023 to the max reading captured in Boston, MA from June 6, 2023 through July 24, 2023, it is evident Boston was not affected as much as Detroit due to the wildfire.  Ideally a similar time frame's worth of data should be collected on Detroit in order to compare sensor readings for the two cities within the same time period.  However, I find it interesting that the  max reading recorded in Boston over a three month period  was much smaller than the max recorded in a single day in Detroit. "
   ]
  },
  {
   "cell_type": "code",
   "execution_count": 388,
   "id": "eb815a72-2d04-4ca9-b511-52d7e3bdd619",
   "metadata": {},
   "outputs": [],
   "source": [
    "# Below is the code for the above graph"
   ]
  },
  {
   "cell_type": "code",
   "execution_count": 382,
   "id": "3c2c2173-e69e-45ba-a53e-2cd6071e602f",
   "metadata": {},
   "outputs": [
    {
     "data": {
      "text/html": [
       "<div>\n",
       "<style scoped>\n",
       "    .dataframe tbody tr th:only-of-type {\n",
       "        vertical-align: middle;\n",
       "    }\n",
       "\n",
       "    .dataframe tbody tr th {\n",
       "        vertical-align: top;\n",
       "    }\n",
       "\n",
       "    .dataframe thead th {\n",
       "        text-align: right;\n",
       "    }\n",
       "</style>\n",
       "<table border=\"1\" class=\"dataframe\">\n",
       "  <thead>\n",
       "    <tr style=\"text-align: right;\">\n",
       "      <th></th>\n",
       "      <th>Community_Avg</th>\n",
       "      <th>Gov_Avg</th>\n",
       "    </tr>\n",
       "    <tr>\n",
       "      <th>Time</th>\n",
       "      <th></th>\n",
       "      <th></th>\n",
       "    </tr>\n",
       "  </thead>\n",
       "  <tbody>\n",
       "    <tr>\n",
       "      <th>04-30</th>\n",
       "      <td>4.016438</td>\n",
       "      <td>4.5000</td>\n",
       "    </tr>\n",
       "    <tr>\n",
       "      <th>05-01</th>\n",
       "      <td>4.138551</td>\n",
       "      <td>5.8125</td>\n",
       "    </tr>\n",
       "    <tr>\n",
       "      <th>05-02</th>\n",
       "      <td>4.140172</td>\n",
       "      <td>6.5875</td>\n",
       "    </tr>\n",
       "    <tr>\n",
       "      <th>05-03</th>\n",
       "      <td>4.063314</td>\n",
       "      <td>6.0625</td>\n",
       "    </tr>\n",
       "    <tr>\n",
       "      <th>05-04</th>\n",
       "      <td>1.917761</td>\n",
       "      <td>4.0000</td>\n",
       "    </tr>\n",
       "  </tbody>\n",
       "</table>\n",
       "</div>"
      ],
      "text/plain": [
       "       Community_Avg  Gov_Avg\n",
       "Time                         \n",
       "04-30       4.016438   4.5000\n",
       "05-01       4.138551   5.8125\n",
       "05-02       4.140172   6.5875\n",
       "05-03       4.063314   6.0625\n",
       "05-04       1.917761   4.0000"
      ]
     },
     "execution_count": 382,
     "metadata": {},
     "output_type": "execute_result"
    }
   ],
   "source": [
    "da_viz.head()"
   ]
  },
  {
   "cell_type": "code",
   "execution_count": 383,
   "id": "06d2521d-ee81-4d99-af3e-e4e1e8306855",
   "metadata": {},
   "outputs": [],
   "source": [
    "da_viz.to_csv(\"/home/jovyan/homework/hw1/Boston_closer_look_csv.csv\")"
   ]
  },
  {
   "cell_type": "code",
   "execution_count": 385,
   "id": "340b3457-ae0e-4e31-8ee5-c35cad3f8d7f",
   "metadata": {},
   "outputs": [],
   "source": [
    "da_closer = pd.read_csv(\"/home/jovyan/homework/hw1/Boston_closer_look_csv.csv\")"
   ]
  },
  {
   "cell_type": "code",
   "execution_count": 386,
   "id": "e9128244-daf5-46f0-a7bc-6215146bde73",
   "metadata": {},
   "outputs": [],
   "source": [
    "da_closer.columns = [\"Time\", \"Community_Avg\", \"Gov_Avg\"]"
   ]
  },
  {
   "cell_type": "code",
   "execution_count": 387,
   "id": "70b50a27-40ab-4c0c-914e-45db43e4b6d3",
   "metadata": {},
   "outputs": [],
   "source": [
    "da_closer_df = da_closer[(da_closer[\"Time\"] >= \"06-07\") & (da_closer[\"Time\"] <= \"07-24\")]"
   ]
  },
  {
   "cell_type": "code",
   "execution_count": 391,
   "id": "398e0643-c8cb-42cd-8a43-e71c0c890b9f",
   "metadata": {},
   "outputs": [],
   "source": [
    "da_look = da_closer_df[[\"Time\", \"Community_Avg\", \"Gov_Avg\"]].set_index([\"Time\"])"
   ]
  },
  {
   "cell_type": "markdown",
   "id": "0204f176-a59f-4058-a54e-aa89f63b0c65",
   "metadata": {},
   "source": [
    "---"
   ]
  },
  {
   "cell_type": "code",
   "execution_count": 395,
   "id": "ea1ef12e-30e5-4a3a-a1d8-ed14ca1e5749",
   "metadata": {},
   "outputs": [],
   "source": [
    "import scipy\n",
    "from scipy import stats"
   ]
  },
  {
   "cell_type": "code",
   "execution_count": 430,
   "id": "a8f00915-edcb-4221-905d-6fcde1537669",
   "metadata": {},
   "outputs": [
    {
     "data": {
      "text/plain": [
       "0.4002416742377038"
      ]
     },
     "execution_count": 430,
     "metadata": {},
     "output_type": "execute_result"
    }
   ],
   "source": [
    "com_stat.statistic"
   ]
  },
  {
   "cell_type": "code",
   "execution_count": 431,
   "id": "1f811ae1-de29-4424-a797-c1bc7d48fe2c",
   "metadata": {},
   "outputs": [],
   "source": [
    "gov = da_government_filter[\"value\"]"
   ]
  },
  {
   "cell_type": "code",
   "execution_count": 432,
   "id": "acefc860-40fe-4b96-be80-aeac9ad29d86",
   "metadata": {},
   "outputs": [],
   "source": [
    "gov=pd.DataFrame(gov)"
   ]
  },
  {
   "cell_type": "code",
   "execution_count": 433,
   "id": "83b45390-d9af-4cd7-8ff6-3fe362f1803c",
   "metadata": {},
   "outputs": [],
   "source": [
    "com=final_mean_df"
   ]
  },
  {
   "cell_type": "code",
   "execution_count": 434,
   "id": "d8dfe727-e90b-41b7-b3e6-ad859965b32e",
   "metadata": {},
   "outputs": [],
   "source": [
    "com.columns= [\"Community_Value\"]"
   ]
  },
  {
   "cell_type": "code",
   "execution_count": 435,
   "id": "b3249248-37aa-4685-827b-3c4020340130",
   "metadata": {},
   "outputs": [
    {
     "data": {
      "text/html": [
       "<div>\n",
       "<style scoped>\n",
       "    .dataframe tbody tr th:only-of-type {\n",
       "        vertical-align: middle;\n",
       "    }\n",
       "\n",
       "    .dataframe tbody tr th {\n",
       "        vertical-align: top;\n",
       "    }\n",
       "\n",
       "    .dataframe thead th {\n",
       "        text-align: right;\n",
       "    }\n",
       "</style>\n",
       "<table border=\"1\" class=\"dataframe\">\n",
       "  <thead>\n",
       "    <tr style=\"text-align: right;\">\n",
       "      <th></th>\n",
       "      <th>Community_Value</th>\n",
       "    </tr>\n",
       "  </thead>\n",
       "  <tbody>\n",
       "    <tr>\n",
       "      <th>0</th>\n",
       "      <td>11.299370</td>\n",
       "    </tr>\n",
       "    <tr>\n",
       "      <th>1</th>\n",
       "      <td>11.307901</td>\n",
       "    </tr>\n",
       "    <tr>\n",
       "      <th>2</th>\n",
       "      <td>11.296811</td>\n",
       "    </tr>\n",
       "    <tr>\n",
       "      <th>3</th>\n",
       "      <td>11.300250</td>\n",
       "    </tr>\n",
       "    <tr>\n",
       "      <th>4</th>\n",
       "      <td>11.308178</td>\n",
       "    </tr>\n",
       "  </tbody>\n",
       "</table>\n",
       "</div>"
      ],
      "text/plain": [
       "   Community_Value\n",
       "0        11.299370\n",
       "1        11.307901\n",
       "2        11.296811\n",
       "3        11.300250\n",
       "4        11.308178"
      ]
     },
     "execution_count": 435,
     "metadata": {},
     "output_type": "execute_result"
    }
   ],
   "source": [
    "com.head()"
   ]
  },
  {
   "cell_type": "code",
   "execution_count": 436,
   "id": "5b67326c-536d-4360-b295-dcfa48e12071",
   "metadata": {},
   "outputs": [],
   "source": [
    "gov.columns=[\"Government_Value\"]"
   ]
  },
  {
   "cell_type": "code",
   "execution_count": 437,
   "id": "532fc89f-cca5-4b8e-b49c-3761c49f8c19",
   "metadata": {},
   "outputs": [
    {
     "data": {
      "text/html": [
       "<div>\n",
       "<style scoped>\n",
       "    .dataframe tbody tr th:only-of-type {\n",
       "        vertical-align: middle;\n",
       "    }\n",
       "\n",
       "    .dataframe tbody tr th {\n",
       "        vertical-align: top;\n",
       "    }\n",
       "\n",
       "    .dataframe thead th {\n",
       "        text-align: right;\n",
       "    }\n",
       "</style>\n",
       "<table border=\"1\" class=\"dataframe\">\n",
       "  <thead>\n",
       "    <tr style=\"text-align: right;\">\n",
       "      <th></th>\n",
       "      <th>Government_Value</th>\n",
       "    </tr>\n",
       "  </thead>\n",
       "  <tbody>\n",
       "    <tr>\n",
       "      <th>237</th>\n",
       "      <td>4.0</td>\n",
       "    </tr>\n",
       "    <tr>\n",
       "      <th>235</th>\n",
       "      <td>4.0</td>\n",
       "    </tr>\n",
       "    <tr>\n",
       "      <th>236</th>\n",
       "      <td>4.0</td>\n",
       "    </tr>\n",
       "    <tr>\n",
       "      <th>473</th>\n",
       "      <td>5.0</td>\n",
       "    </tr>\n",
       "    <tr>\n",
       "      <th>474</th>\n",
       "      <td>5.0</td>\n",
       "    </tr>\n",
       "  </tbody>\n",
       "</table>\n",
       "</div>"
      ],
      "text/plain": [
       "     Government_Value\n",
       "237               4.0\n",
       "235               4.0\n",
       "236               4.0\n",
       "473               5.0\n",
       "474               5.0"
      ]
     },
     "execution_count": 437,
     "metadata": {},
     "output_type": "execute_result"
    }
   ],
   "source": [
    "gov.head()"
   ]
  },
  {
   "cell_type": "code",
   "execution_count": 438,
   "id": "ab4a51f1-02a5-474a-a25e-fb25206c4675",
   "metadata": {},
   "outputs": [],
   "source": [
    "com_stat = scipy.stats.normaltest(com[\"Community_Value\"])"
   ]
  },
  {
   "cell_type": "code",
   "execution_count": 439,
   "id": "53d8d3fa-cabd-4331-bc8b-27339783144f",
   "metadata": {},
   "outputs": [
    {
     "data": {
      "text/plain": [
       "0.4002416742377038"
      ]
     },
     "execution_count": 439,
     "metadata": {},
     "output_type": "execute_result"
    }
   ],
   "source": [
    "com_stat.statistic"
   ]
  },
  {
   "cell_type": "code",
   "execution_count": 440,
   "id": "df3c4c55-d7d0-41d1-8f2f-3cad0d346bc7",
   "metadata": {},
   "outputs": [],
   "source": [
    "gov_stat = scipy.stats.normaltest(da_government_filter[\"value\"])"
   ]
  },
  {
   "cell_type": "code",
   "execution_count": 441,
   "id": "eb396a5a-04a7-44aa-bff2-57a6a65cdc0b",
   "metadata": {},
   "outputs": [
    {
     "data": {
      "text/plain": [
       "4234.498443140436"
      ]
     },
     "execution_count": 441,
     "metadata": {},
     "output_type": "execute_result"
    }
   ],
   "source": [
    "gov_stat.statistic"
   ]
  },
  {
   "cell_type": "code",
   "execution_count": 442,
   "id": "ba667427-ad57-4567-9874-1934b8759c58",
   "metadata": {},
   "outputs": [
    {
     "data": {
      "text/plain": [
       "0.818631825989817"
      ]
     },
     "execution_count": 442,
     "metadata": {},
     "output_type": "execute_result"
    }
   ],
   "source": [
    "com_stat.pvalue"
   ]
  },
  {
   "cell_type": "code",
   "execution_count": 443,
   "id": "2822dd15-95c5-4b0e-935a-26fb874a4654",
   "metadata": {},
   "outputs": [
    {
     "data": {
      "text/plain": [
       "0.0"
      ]
     },
     "execution_count": 443,
     "metadata": {},
     "output_type": "execute_result"
    }
   ],
   "source": [
    "gov_stat.pvalue"
   ]
  },
  {
   "cell_type": "code",
   "execution_count": 444,
   "id": "5ad0f7b8-a655-44ce-83ea-56d2f28f20d4",
   "metadata": {},
   "outputs": [
    {
     "data": {
      "text/plain": [
       "73947.3822478474"
      ]
     },
     "execution_count": 444,
     "metadata": {},
     "output_type": "execute_result"
    }
   ],
   "source": [
    "res = stats.bartlett(com[\"Community_Value\"],gov[\"Government_Value\"])\n",
    "res.statistic"
   ]
  },
  {
   "cell_type": "code",
   "execution_count": 445,
   "id": "9efec355-5640-49be-a160-240b41fafd34",
   "metadata": {},
   "outputs": [
    {
     "data": {
      "text/plain": [
       "0.0"
      ]
     },
     "execution_count": 445,
     "metadata": {},
     "output_type": "execute_result"
    }
   ],
   "source": [
    "res.pvalue"
   ]
  },
  {
   "cell_type": "code",
   "execution_count": 420,
   "id": "6f13d175-f545-46ab-83b8-c9145d2e5787",
   "metadata": {},
   "outputs": [
    {
     "data": {
      "text/plain": [
       "Ttest_indResult(statistic=46.844541890339094, pvalue=0.0)"
      ]
     },
     "execution_count": 420,
     "metadata": {},
     "output_type": "execute_result"
    }
   ],
   "source": [
    "stats.ttest_ind(com[\"Community_Value\"], gov[\"Government_Value\"], trim=.2)"
   ]
  },
  {
   "cell_type": "code",
   "execution_count": 421,
   "id": "3b1f0191-9b6c-463b-9d08-2ed97c175c12",
   "metadata": {},
   "outputs": [
    {
     "data": {
      "text/html": [
       "<div>\n",
       "<style scoped>\n",
       "    .dataframe tbody tr th:only-of-type {\n",
       "        vertical-align: middle;\n",
       "    }\n",
       "\n",
       "    .dataframe tbody tr th {\n",
       "        vertical-align: top;\n",
       "    }\n",
       "\n",
       "    .dataframe thead th {\n",
       "        text-align: right;\n",
       "    }\n",
       "</style>\n",
       "<table border=\"1\" class=\"dataframe\">\n",
       "  <thead>\n",
       "    <tr style=\"text-align: right;\">\n",
       "      <th></th>\n",
       "      <th>Government_Value</th>\n",
       "    </tr>\n",
       "  </thead>\n",
       "  <tbody>\n",
       "    <tr>\n",
       "      <th>237</th>\n",
       "      <td>4.0</td>\n",
       "    </tr>\n",
       "    <tr>\n",
       "      <th>235</th>\n",
       "      <td>4.0</td>\n",
       "    </tr>\n",
       "    <tr>\n",
       "      <th>236</th>\n",
       "      <td>4.0</td>\n",
       "    </tr>\n",
       "    <tr>\n",
       "      <th>473</th>\n",
       "      <td>5.0</td>\n",
       "    </tr>\n",
       "    <tr>\n",
       "      <th>474</th>\n",
       "      <td>5.0</td>\n",
       "    </tr>\n",
       "  </tbody>\n",
       "</table>\n",
       "</div>"
      ],
      "text/plain": [
       "     Government_Value\n",
       "237               4.0\n",
       "235               4.0\n",
       "236               4.0\n",
       "473               5.0\n",
       "474               5.0"
      ]
     },
     "execution_count": 421,
     "metadata": {},
     "output_type": "execute_result"
    }
   ],
   "source": [
    "gov.head()"
   ]
  },
  {
   "cell_type": "markdown",
   "id": "0c8aadc8-220f-46da-b07c-43d1873b5166",
   "metadata": {},
   "source": [
    "---"
   ]
  },
  {
   "cell_type": "code",
   "execution_count": 424,
   "id": "d6905a0c-32ca-49e4-ac0f-24e0221b74c1",
   "metadata": {},
   "outputs": [
    {
     "data": {
      "text/plain": [
       "array([12.31481061])"
      ]
     },
     "execution_count": 424,
     "metadata": {},
     "output_type": "execute_result"
    }
   ],
   "source": [
    "scipy.stats.kurtosis(gov,bias=False)\n"
   ]
  },
  {
   "cell_type": "code",
   "execution_count": 425,
   "id": "04f86325-e581-4ac4-a13a-6b4dc095e588",
   "metadata": {},
   "outputs": [
    {
     "data": {
      "text/plain": [
       "array([0.0270783])"
      ]
     },
     "execution_count": 425,
     "metadata": {},
     "output_type": "execute_result"
    }
   ],
   "source": [
    "scipy.stats.kurtosis(com,bias=False)"
   ]
  },
  {
   "cell_type": "code",
   "execution_count": 426,
   "id": "a6e7d985-8101-4c76-8020-036c36290720",
   "metadata": {},
   "outputs": [
    {
     "data": {
      "text/plain": [
       "array([2.97952295])"
      ]
     },
     "execution_count": 426,
     "metadata": {},
     "output_type": "execute_result"
    }
   ],
   "source": [
    "scipy.stats.skew(gov,bias=False)"
   ]
  },
  {
   "cell_type": "code",
   "execution_count": 427,
   "id": "d4ed796f-2be5-40f1-8af4-5a9430fd6989",
   "metadata": {},
   "outputs": [
    {
     "data": {
      "text/plain": [
       "array([-0.01269683])"
      ]
     },
     "execution_count": 427,
     "metadata": {},
     "output_type": "execute_result"
    }
   ],
   "source": [
    "scipy.stats.skew(com,bias=False)"
   ]
  },
  {
   "cell_type": "code",
   "execution_count": 428,
   "id": "ca95a1dd-e3ec-4867-9b0d-620e9b58afe2",
   "metadata": {},
   "outputs": [],
   "source": [
    "# Generally, with the descriptive statistics table we are trying to determine if the variables are normally distributed (skewness and kurtosis values equal to zero).  \n",
    "# Skewness and kurtosis values between -2.00 and +2.00 indicate that a variable is sufficiently normally distributed."
   ]
  },
  {
   "cell_type": "markdown",
   "id": "43d42067-d4bd-4838-a345-17caf595229c",
   "metadata": {},
   "source": [
    "## The government dataset is not sufficiently normally distributed since both kurtosis and skewness do not fall between -2.00 and 2.00.\n",
    "\n",
    "## The community dataset is sufficiently normally distributed."
   ]
  },
  {
   "cell_type": "markdown",
   "id": "2feb5f58-9cbf-4e70-afda-8bbbbee9d9a2",
   "metadata": {},
   "source": [
    "---"
   ]
  },
  {
   "cell_type": "markdown",
   "id": "15240edd-4343-48e3-983a-49fb60cbb5b6",
   "metadata": {},
   "source": [
    "## Based upon the results the independent t-test I cannot fail to reject the null hypothesis that the means of the two independent samples have identical average expected values at the 0.001 significance level."
   ]
  },
  {
   "cell_type": "code",
   "execution_count": 429,
   "id": "10ed721f-945e-4240-a641-27b56669717c",
   "metadata": {},
   "outputs": [
    {
     "data": {
      "text/plain": [
       "Ttest_indResult(statistic=array([-19.038293]), pvalue=array([9.7127733e-80]))"
      ]
     },
     "execution_count": 429,
     "metadata": {},
     "output_type": "execute_result"
    }
   ],
   "source": [
    "stats.ttest_ind(gov, com, equal_var=True)"
   ]
  },
  {
   "cell_type": "markdown",
   "id": "f659599a-d2a5-4613-9bbb-61d1a12a4538",
   "metadata": {},
   "source": [
    "---"
   ]
  }
 ],
 "metadata": {
  "kernelspec": {
   "display_name": "Python 3",
   "language": "python",
   "name": "python3"
  },
  "language_info": {
   "codemirror_mode": {
    "name": "ipython",
    "version": 3
   },
   "file_extension": ".py",
   "mimetype": "text/x-python",
   "name": "python",
   "nbconvert_exporter": "python",
   "pygments_lexer": "ipython3",
   "version": "3.12.1"
  }
 },
 "nbformat": 4,
 "nbformat_minor": 5
}
